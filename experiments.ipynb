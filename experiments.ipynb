{
 "cells": [
  {
   "cell_type": "code",
   "execution_count": 1,
   "id": "b7d3b0f6-fc7d-430f-bb6e-42676714cb24",
   "metadata": {},
   "outputs": [
    {
     "name": "stderr",
     "output_type": "stream",
     "text": [
      "WARNING:absl:No GPU/TPU found, falling back to CPU. (Set TF_CPP_MIN_LOG_LEVEL=0 and rerun for more info.)\n"
     ]
    },
    {
     "name": "stdout",
     "output_type": "stream",
     "text": [
      "WARNING: the SolovayKitaevDecomposition plugin from dev version of qiskit is not installed.\n",
      "To intall it run \"pip install git+https://github.com/LNoorl/qiskit-terra@d2e0dc1185ccc3b0c9957e3d7d9bc610dede29d4\" \n",
      "You might also need to install the Rust compiler https://www.rust-lang.org/tools/install .\n"
     ]
    }
   ],
   "source": [
    "# from cpflow import *\n",
    "# from cpflow.topology import *\n",
    "# from cpflow.matrix_utils import *\n",
    "# from cpflow.exact_decompositions import constrained_function\n",
    "from collections import namedtuple\n",
    "from jax import random\n",
    "from mynimize import *\n",
    "\n",
    "from traps import *\n",
    "import numpy as np"
   ]
  },
  {
   "cell_type": "markdown",
   "id": "a594d1b3-c29a-48a0-b328-9d50d007f1c2",
   "metadata": {},
   "source": [
    "Experiments to do.\n",
    "- Reproduce self-instances and random unitaries for cz gates.\n",
    "- Make the same plots for cp gates\n",
    "- Now make the same plots for both cp and cz gates with target being the identity gate!\n",
    "\n",
    "Apparently, the conclusion will be that it is very hard to compile the gate of the same complexity, but probably much easier to compile gates of lower complexity. Would be helpful to extend this more systematically. Is there a phase transition somewhere in learning as a function of ansatz complexity / target complexity ?\n",
    "\n",
    "- Make experiments with single gate removal. Preliminarly there are no problems.\n",
    "\n",
    "\n",
    "Talk ideas:\n",
    "- Mention that num_gates may be a good proxy for complexity https://arxiv.org/abs/2106.05305\n",
    "- My procedure as a warm-start for ansatz-modifying algorithms?"
   ]
  },
  {
   "cell_type": "markdown",
   "id": "cc49bc08",
   "metadata": {},
   "source": [
    "# Success ratios for 'cz' self-instances"
   ]
  },
  {
   "cell_type": "markdown",
   "id": "02f226f2-6aee-4f03-97da-c5b51b0fb8de",
   "metadata": {},
   "source": [
    "## 2q"
   ]
  },
  {
   "cell_type": "code",
   "execution_count": 2,
   "id": "23b55682-6393-41ac-9dd2-237298d85de5",
   "metadata": {},
   "outputs": [
    {
     "data": {
      "application/vnd.jupyter.widget-view+json": {
       "model_id": "c69493cf41704392a54f539e96f2c011",
       "version_major": 2,
       "version_minor": 0
      },
      "text/plain": [
       "Gates:   0%|          | 0/2 [00:00<?, ?it/s]"
      ]
     },
     "metadata": {},
     "output_type": "display_data"
    },
    {
     "data": {
      "application/vnd.jupyter.widget-view+json": {
       "model_id": "",
       "version_major": 2,
       "version_minor": 0
      },
      "text/plain": [
       "Targets:   0%|          | 0/3 [00:00<?, ?it/s]"
      ]
     },
     "metadata": {},
     "output_type": "display_data"
    },
    {
     "data": {
      "application/vnd.jupyter.widget-view+json": {
       "model_id": "",
       "version_major": 2,
       "version_minor": 0
      },
      "text/plain": [
       "Targets:   0%|          | 0/3 [00:00<?, ?it/s]"
      ]
     },
     "metadata": {},
     "output_type": "display_data"
    },
    {
     "name": "stdout",
     "output_type": "stream",
     "text": [
      "CPU times: user 28.4 s, sys: 131 ms, total: 28.5 s\n",
      "Wall time: 28.7 s\n"
     ]
    }
   ],
   "source": [
    "%%time\n",
    "\n",
    "options = ExperimentOptions(\n",
    "    target_type='self_instance',\n",
    "    ansatz_type='cz', \n",
    "    num_qubits=2, \n",
    "    gate_counts = [1, 2], \n",
    "    num_targets=3, \n",
    "    num_samples=10, \n",
    "    keep_history=True)\n",
    "\n",
    "exp = Experiment(options, 'test_keep')\n",
    "exp.run()"
   ]
  },
  {
   "cell_type": "code",
   "execution_count": 3,
   "id": "6bd63ac5-8bb4-40fb-956b-e0630ea7eec0",
   "metadata": {},
   "outputs": [
    {
     "data": {
      "image/png": "[encoded data removed]",
      "text/plain": [
       "<Figure size 432x288 with 1 Axes>"
      ]
     },
     "metadata": {
      "needs_background": "light"
     },
     "output_type": "display_data"
    }
   ],
   "source": [
    "exp.plot_success_ratios()"
   ]
  },
  {
   "cell_type": "code",
   "execution_count": 2,
   "id": "f501824e",
   "metadata": {},
   "outputs": [
    {
     "data": {
      "text/plain": [
       "{0: [DeviceArray(1., dtype=float32), DeviceArray(1., dtype=float32)],\n",
       " 1: [DeviceArray(1., dtype=float32), DeviceArray(1., dtype=float32)],\n",
       " 2: [DeviceArray(1., dtype=float32), DeviceArray(1., dtype=float32)],\n",
       " 3: [DeviceArray(1., dtype=float32), DeviceArray(1., dtype=float32)]}"
      ]
     },
     "execution_count": 2,
     "metadata": {},
     "output_type": "execute_result"
    }
   ],
   "source": [
    "target_type = 'self_instance'\n",
    "ansatz_type = 'cz'\n",
    "num_qubits = 2\n",
    "gate_counts = range(4)\n",
    "num_targets = 2\n",
    "num_samples = 100\n",
    "\n",
    "\n",
    "chart_success_ratio(target_type, ansatz_type, num_qubits, gate_counts, num_targets, num_samples)"
   ]
  },
  {
   "cell_type": "code",
   "execution_count": 4,
   "id": "7c1a0220-dc08-405d-9c13-295248586a8b",
   "metadata": {},
   "outputs": [],
   "source": [
    "r = Results.load('results/self_instance_cz_2q/depth_0_target_0')"
   ]
  },
  {
   "cell_type": "code",
   "execution_count": 7,
   "id": "46088518-782b-4b1a-9030-91c367e33ea3",
   "metadata": {},
   "outputs": [
    {
     "data": {
      "image/png": "[encoded data removed]",
      "text/plain": [
       "<Figure size 432x288 with 1 Axes>"
      ]
     },
     "metadata": {
      "needs_background": "light"
     },
     "output_type": "display_data"
    }
   ],
   "source": [
    "r.all_results[26].plot_loss_history()"
   ]
  },
  {
   "cell_type": "code",
   "execution_count": 22,
   "id": "0af4d57b-b433-4959-ba52-d59a897d4db6",
   "metadata": {},
   "outputs": [],
   "source": [
    "def get_losses(path, gate_counts, num_targets):\n",
    "    all_losses = {}\n",
    "    for gc in gate_counts:\n",
    "        losses_at_gc = {}\n",
    "        for n in range(num_targets):\n",
    "            results = Results.load(path+f'/depth_{gc}_target_{n}')\n",
    "            losses = results.all_best_losses\n",
    "            losses_at_gc[str(n)] = losses\n",
    "        all_losses[str(gc)] = losses_at_gc\n",
    "    \n",
    "    return all_losses\n",
    "\n",
    "def get_success_ratios(path, gate_counts, num_targets)\n",
    "    all_losses = get_losses(path, gate_counts, num_targets)\n",
    "    success_rats = success_ratio_from_losses()"
   ]
  },
  {
   "cell_type": "code",
   "execution_count": null,
   "id": "ad1ff9a2-3cf2-4b7a-83ac-93a2080e0ac0",
   "metadata": {},
   "outputs": [],
   "source": []
  },
  {
   "cell_type": "code",
   "execution_count": 23,
   "id": "7aa795cd-539c-4d98-8589-d77149bcde1e",
   "metadata": {},
   "outputs": [
    {
     "data": {
      "text/plain": [
       "{'0': {'0': [array(-2.3841858e-07, dtype=float32),\n",
       "   array(-2.3841858e-07, dtype=float32),\n",
       "   array(-2.3841858e-07, dtype=float32),\n",
       "   array(-2.3841858e-07, dtype=float32),\n",
       "   array(-2.3841858e-07, dtype=float32),\n",
       "   array(-2.3841858e-07, dtype=float32),\n",
       "   array(-2.3841858e-07, dtype=float32),\n",
       "   array(-2.3841858e-07, dtype=float32),\n",
       "   array(-2.3841858e-07, dtype=float32),\n",
       "   array(-2.3841858e-07, dtype=float32),\n",
       "   array(-2.3841858e-07, dtype=float32),\n",
       "   array(-2.3841858e-07, dtype=float32),\n",
       "   array(-2.3841858e-07, dtype=float32),\n",
       "   array(-2.3841858e-07, dtype=float32),\n",
       "   array(-2.3841858e-07, dtype=float32),\n",
       "   array(-4.7683716e-07, dtype=float32),\n",
       "   array(-2.3841858e-07, dtype=float32),\n",
       "   array(0., dtype=float32),\n",
       "   array(-2.3841858e-07, dtype=float32),\n",
       "   array(-2.3841858e-07, dtype=float32),\n",
       "   array(-2.3841858e-07, dtype=float32),\n",
       "   array(-2.3841858e-07, dtype=float32),\n",
       "   array(0., dtype=float32),\n",
       "   array(-2.3841858e-07, dtype=float32),\n",
       "   array(-4.7683716e-07, dtype=float32),\n",
       "   array(-2.3841858e-07, dtype=float32),\n",
       "   array(-2.3841858e-07, dtype=float32),\n",
       "   array(-2.3841858e-07, dtype=float32),\n",
       "   array(-2.3841858e-07, dtype=float32),\n",
       "   array(-2.3841858e-07, dtype=float32),\n",
       "   array(-2.3841858e-07, dtype=float32),\n",
       "   array(-2.3841858e-07, dtype=float32),\n",
       "   array(-4.7683716e-07, dtype=float32),\n",
       "   array(-4.7683716e-07, dtype=float32),\n",
       "   array(-4.7683716e-07, dtype=float32),\n",
       "   array(-4.7683716e-07, dtype=float32),\n",
       "   array(-2.3841858e-07, dtype=float32),\n",
       "   array(-2.3841858e-07, dtype=float32),\n",
       "   array(-2.3841858e-07, dtype=float32),\n",
       "   array(-2.3841858e-07, dtype=float32),\n",
       "   array(-2.3841858e-07, dtype=float32),\n",
       "   array(-2.3841858e-07, dtype=float32),\n",
       "   array(-4.7683716e-07, dtype=float32),\n",
       "   array(-2.3841858e-07, dtype=float32),\n",
       "   array(-4.7683716e-07, dtype=float32),\n",
       "   array(-2.3841858e-07, dtype=float32),\n",
       "   array(-2.3841858e-07, dtype=float32),\n",
       "   array(-2.3841858e-07, dtype=float32),\n",
       "   array(-2.3841858e-07, dtype=float32),\n",
       "   array(-2.3841858e-07, dtype=float32),\n",
       "   array(-2.3841858e-07, dtype=float32),\n",
       "   array(-2.3841858e-07, dtype=float32),\n",
       "   array(-4.7683716e-07, dtype=float32),\n",
       "   array(-2.3841858e-07, dtype=float32),\n",
       "   array(-2.3841858e-07, dtype=float32),\n",
       "   array(-2.3841858e-07, dtype=float32),\n",
       "   array(-2.3841858e-07, dtype=float32),\n",
       "   array(-4.7683716e-07, dtype=float32),\n",
       "   array(-2.3841858e-07, dtype=float32),\n",
       "   array(-2.3841858e-07, dtype=float32),\n",
       "   array(-2.3841858e-07, dtype=float32),\n",
       "   array(-2.3841858e-07, dtype=float32),\n",
       "   array(-2.3841858e-07, dtype=float32),\n",
       "   array(-2.3841858e-07, dtype=float32),\n",
       "   array(-2.3841858e-07, dtype=float32),\n",
       "   array(-2.3841858e-07, dtype=float32),\n",
       "   array(-4.7683716e-07, dtype=float32),\n",
       "   array(-2.3841858e-07, dtype=float32),\n",
       "   array(-4.7683716e-07, dtype=float32),\n",
       "   array(-2.3841858e-07, dtype=float32),\n",
       "   array(-2.3841858e-07, dtype=float32),\n",
       "   array(-2.3841858e-07, dtype=float32),\n",
       "   array(-2.3841858e-07, dtype=float32),\n",
       "   array(-2.3841858e-07, dtype=float32),\n",
       "   array(-2.3841858e-07, dtype=float32),\n",
       "   array(-2.3841858e-07, dtype=float32),\n",
       "   array(-2.3841858e-07, dtype=float32),\n",
       "   array(-2.3841858e-07, dtype=float32),\n",
       "   array(-2.3841858e-07, dtype=float32),\n",
       "   array(-2.3841858e-07, dtype=float32),\n",
       "   array(-2.3841858e-07, dtype=float32),\n",
       "   array(-2.3841858e-07, dtype=float32),\n",
       "   array(-2.3841858e-07, dtype=float32),\n",
       "   array(-2.3841858e-07, dtype=float32),\n",
       "   array(-2.3841858e-07, dtype=float32),\n",
       "   array(-2.3841858e-07, dtype=float32),\n",
       "   array(-2.3841858e-07, dtype=float32),\n",
       "   array(-4.7683716e-07, dtype=float32),\n",
       "   array(-2.3841858e-07, dtype=float32),\n",
       "   array(-4.7683716e-07, dtype=float32),\n",
       "   array(-2.3841858e-07, dtype=float32),\n",
       "   array(-2.3841858e-07, dtype=float32),\n",
       "   array(-2.3841858e-07, dtype=float32),\n",
       "   array(-4.7683716e-07, dtype=float32),\n",
       "   array(-2.3841858e-07, dtype=float32),\n",
       "   array(-2.3841858e-07, dtype=float32),\n",
       "   array(-2.3841858e-07, dtype=float32),\n",
       "   array(-2.3841858e-07, dtype=float32),\n",
       "   array(-2.3841858e-07, dtype=float32),\n",
       "   array(-2.3841858e-07, dtype=float32)],\n",
       "  '1': [array(-2.3841858e-07, dtype=float32),\n",
       "   array(-4.7683716e-07, dtype=float32),\n",
       "   array(-4.7683716e-07, dtype=float32),\n",
       "   array(-4.7683716e-07, dtype=float32),\n",
       "   array(-4.7683716e-07, dtype=float32),\n",
       "   array(-4.7683716e-07, dtype=float32),\n",
       "   array(-4.7683716e-07, dtype=float32),\n",
       "   array(-4.7683716e-07, dtype=float32),\n",
       "   array(-4.7683716e-07, dtype=float32),\n",
       "   array(-4.7683716e-07, dtype=float32),\n",
       "   array(-4.7683716e-07, dtype=float32),\n",
       "   array(-4.7683716e-07, dtype=float32),\n",
       "   array(-4.7683716e-07, dtype=float32),\n",
       "   array(-2.3841858e-07, dtype=float32),\n",
       "   array(-7.1525574e-07, dtype=float32),\n",
       "   array(-4.7683716e-07, dtype=float32),\n",
       "   array(-4.7683716e-07, dtype=float32),\n",
       "   array(-4.7683716e-07, dtype=float32),\n",
       "   array(-4.7683716e-07, dtype=float32),\n",
       "   array(-4.7683716e-07, dtype=float32),\n",
       "   array(-4.7683716e-07, dtype=float32),\n",
       "   array(-4.7683716e-07, dtype=float32),\n",
       "   array(-7.1525574e-07, dtype=float32),\n",
       "   array(-4.7683716e-07, dtype=float32),\n",
       "   array(-4.7683716e-07, dtype=float32),\n",
       "   array(-4.7683716e-07, dtype=float32),\n",
       "   array(-4.7683716e-07, dtype=float32),\n",
       "   array(-4.7683716e-07, dtype=float32),\n",
       "   array(-4.7683716e-07, dtype=float32),\n",
       "   array(-2.3841858e-07, dtype=float32),\n",
       "   array(-4.7683716e-07, dtype=float32),\n",
       "   array(-4.7683716e-07, dtype=float32),\n",
       "   array(-2.3841858e-07, dtype=float32),\n",
       "   array(-4.7683716e-07, dtype=float32),\n",
       "   array(-2.3841858e-07, dtype=float32),\n",
       "   array(-4.7683716e-07, dtype=float32),\n",
       "   array(-4.7683716e-07, dtype=float32),\n",
       "   array(-4.7683716e-07, dtype=float32),\n",
       "   array(-2.3841858e-07, dtype=float32),\n",
       "   array(-2.3841858e-07, dtype=float32),\n",
       "   array(-4.7683716e-07, dtype=float32),\n",
       "   array(-4.7683716e-07, dtype=float32),\n",
       "   array(-4.7683716e-07, dtype=float32),\n",
       "   array(-4.7683716e-07, dtype=float32),\n",
       "   array(-4.7683716e-07, dtype=float32),\n",
       "   array(-4.7683716e-07, dtype=float32),\n",
       "   array(-4.7683716e-07, dtype=float32),\n",
       "   array(-4.7683716e-07, dtype=float32),\n",
       "   array(-4.7683716e-07, dtype=float32),\n",
       "   array(-4.7683716e-07, dtype=float32),\n",
       "   array(-4.7683716e-07, dtype=float32),\n",
       "   array(-4.7683716e-07, dtype=float32),\n",
       "   array(-4.7683716e-07, dtype=float32),\n",
       "   array(-4.7683716e-07, dtype=float32),\n",
       "   array(-4.7683716e-07, dtype=float32),\n",
       "   array(-4.7683716e-07, dtype=float32),\n",
       "   array(-4.7683716e-07, dtype=float32),\n",
       "   array(-4.7683716e-07, dtype=float32),\n",
       "   array(-4.7683716e-07, dtype=float32),\n",
       "   array(-4.7683716e-07, dtype=float32),\n",
       "   array(-4.7683716e-07, dtype=float32),\n",
       "   array(-4.7683716e-07, dtype=float32),\n",
       "   array(-4.7683716e-07, dtype=float32),\n",
       "   array(-4.7683716e-07, dtype=float32),\n",
       "   array(-4.7683716e-07, dtype=float32),\n",
       "   array(-2.3841858e-07, dtype=float32),\n",
       "   array(-4.7683716e-07, dtype=float32),\n",
       "   array(-4.7683716e-07, dtype=float32),\n",
       "   array(-4.7683716e-07, dtype=float32),\n",
       "   array(-4.7683716e-07, dtype=float32),\n",
       "   array(-4.7683716e-07, dtype=float32),\n",
       "   array(-4.7683716e-07, dtype=float32),\n",
       "   array(-4.7683716e-07, dtype=float32),\n",
       "   array(-4.7683716e-07, dtype=float32),\n",
       "   array(-4.7683716e-07, dtype=float32),\n",
       "   array(-4.7683716e-07, dtype=float32),\n",
       "   array(-4.7683716e-07, dtype=float32),\n",
       "   array(-7.1525574e-07, dtype=float32),\n",
       "   array(-7.1525574e-07, dtype=float32),\n",
       "   array(-4.7683716e-07, dtype=float32),\n",
       "   array(-2.3841858e-07, dtype=float32),\n",
       "   array(-4.7683716e-07, dtype=float32),\n",
       "   array(-2.3841858e-07, dtype=float32),\n",
       "   array(-2.3841858e-07, dtype=float32),\n",
       "   array(-4.7683716e-07, dtype=float32),\n",
       "   array(-4.7683716e-07, dtype=float32),\n",
       "   array(-4.7683716e-07, dtype=float32),\n",
       "   array(-4.7683716e-07, dtype=float32),\n",
       "   array(-4.7683716e-07, dtype=float32),\n",
       "   array(-2.3841858e-07, dtype=float32),\n",
       "   array(-4.7683716e-07, dtype=float32),\n",
       "   array(-4.7683716e-07, dtype=float32),\n",
       "   array(-4.7683716e-07, dtype=float32),\n",
       "   array(-4.7683716e-07, dtype=float32),\n",
       "   array(-4.7683716e-07, dtype=float32),\n",
       "   array(-4.7683716e-07, dtype=float32),\n",
       "   array(-4.7683716e-07, dtype=float32),\n",
       "   array(-4.7683716e-07, dtype=float32),\n",
       "   array(-4.7683716e-07, dtype=float32),\n",
       "   array(-4.7683716e-07, dtype=float32)]},\n",
       " '1': {'0': [array(-7.1525574e-07, dtype=float32),\n",
       "   array(-9.536743e-07, dtype=float32),\n",
       "   array(-7.1525574e-07, dtype=float32),\n",
       "   array(-7.1525574e-07, dtype=float32),\n",
       "   array(-9.536743e-07, dtype=float32),\n",
       "   array(-4.7683716e-07, dtype=float32),\n",
       "   array(-7.1525574e-07, dtype=float32),\n",
       "   array(-7.1525574e-07, dtype=float32),\n",
       "   array(-7.1525574e-07, dtype=float32),\n",
       "   array(-7.1525574e-07, dtype=float32),\n",
       "   array(-7.1525574e-07, dtype=float32),\n",
       "   array(-7.1525574e-07, dtype=float32),\n",
       "   array(-7.1525574e-07, dtype=float32),\n",
       "   array(-4.7683716e-07, dtype=float32),\n",
       "   array(-4.7683716e-07, dtype=float32),\n",
       "   array(-7.1525574e-07, dtype=float32),\n",
       "   array(-7.1525574e-07, dtype=float32),\n",
       "   array(-7.1525574e-07, dtype=float32),\n",
       "   array(-7.1525574e-07, dtype=float32),\n",
       "   array(-7.1525574e-07, dtype=float32),\n",
       "   array(-7.1525574e-07, dtype=float32),\n",
       "   array(-7.1525574e-07, dtype=float32),\n",
       "   array(-9.536743e-07, dtype=float32),\n",
       "   array(-7.1525574e-07, dtype=float32),\n",
       "   array(-7.1525574e-07, dtype=float32),\n",
       "   array(-7.1525574e-07, dtype=float32),\n",
       "   array(-7.1525574e-07, dtype=float32),\n",
       "   array(-7.1525574e-07, dtype=float32),\n",
       "   array(-7.1525574e-07, dtype=float32),\n",
       "   array(-4.7683716e-07, dtype=float32),\n",
       "   array(-7.1525574e-07, dtype=float32),\n",
       "   array(-7.1525574e-07, dtype=float32),\n",
       "   array(-9.536743e-07, dtype=float32),\n",
       "   array(-4.7683716e-07, dtype=float32),\n",
       "   array(-7.1525574e-07, dtype=float32),\n",
       "   array(-9.536743e-07, dtype=float32),\n",
       "   array(-7.1525574e-07, dtype=float32),\n",
       "   array(-7.1525574e-07, dtype=float32),\n",
       "   array(-7.1525574e-07, dtype=float32),\n",
       "   array(-4.7683716e-07, dtype=float32),\n",
       "   array(-7.1525574e-07, dtype=float32),\n",
       "   array(-7.1525574e-07, dtype=float32),\n",
       "   array(-7.1525574e-07, dtype=float32),\n",
       "   array(-7.1525574e-07, dtype=float32),\n",
       "   array(-7.1525574e-07, dtype=float32),\n",
       "   array(-4.7683716e-07, dtype=float32),\n",
       "   array(-7.1525574e-07, dtype=float32),\n",
       "   array(-4.7683716e-07, dtype=float32),\n",
       "   array(-7.1525574e-07, dtype=float32),\n",
       "   array(-7.1525574e-07, dtype=float32),\n",
       "   array(-7.1525574e-07, dtype=float32),\n",
       "   array(-7.1525574e-07, dtype=float32),\n",
       "   array(-7.1525574e-07, dtype=float32),\n",
       "   array(-7.1525574e-07, dtype=float32),\n",
       "   array(-7.1525574e-07, dtype=float32),\n",
       "   array(-7.1525574e-07, dtype=float32),\n",
       "   array(-9.536743e-07, dtype=float32),\n",
       "   array(-7.1525574e-07, dtype=float32),\n",
       "   array(-7.1525574e-07, dtype=float32),\n",
       "   array(-7.1525574e-07, dtype=float32),\n",
       "   array(-7.1525574e-07, dtype=float32),\n",
       "   array(-7.1525574e-07, dtype=float32),\n",
       "   array(-7.1525574e-07, dtype=float32),\n",
       "   array(-4.7683716e-07, dtype=float32),\n",
       "   array(-7.1525574e-07, dtype=float32),\n",
       "   array(-9.536743e-07, dtype=float32),\n",
       "   array(-7.1525574e-07, dtype=float32),\n",
       "   array(-4.7683716e-07, dtype=float32),\n",
       "   array(-7.1525574e-07, dtype=float32),\n",
       "   array(-7.1525574e-07, dtype=float32),\n",
       "   array(-7.1525574e-07, dtype=float32),\n",
       "   array(-7.1525574e-07, dtype=float32),\n",
       "   array(-7.1525574e-07, dtype=float32),\n",
       "   array(-7.1525574e-07, dtype=float32),\n",
       "   array(-7.1525574e-07, dtype=float32),\n",
       "   array(-7.1525574e-07, dtype=float32),\n",
       "   array(-7.1525574e-07, dtype=float32),\n",
       "   array(-7.1525574e-07, dtype=float32),\n",
       "   array(-7.1525574e-07, dtype=float32),\n",
       "   array(-7.1525574e-07, dtype=float32),\n",
       "   array(-7.1525574e-07, dtype=float32),\n",
       "   array(-7.1525574e-07, dtype=float32),\n",
       "   array(-7.1525574e-07, dtype=float32),\n",
       "   array(-7.1525574e-07, dtype=float32),\n",
       "   array(-7.1525574e-07, dtype=float32),\n",
       "   array(-7.1525574e-07, dtype=float32),\n",
       "   array(-7.1525574e-07, dtype=float32),\n",
       "   array(-4.7683716e-07, dtype=float32),\n",
       "   array(-7.1525574e-07, dtype=float32),\n",
       "   array(-7.1525574e-07, dtype=float32),\n",
       "   array(-7.1525574e-07, dtype=float32),\n",
       "   array(-7.1525574e-07, dtype=float32),\n",
       "   array(-7.1525574e-07, dtype=float32),\n",
       "   array(-7.1525574e-07, dtype=float32),\n",
       "   array(-7.1525574e-07, dtype=float32),\n",
       "   array(-7.1525574e-07, dtype=float32),\n",
       "   array(-7.1525574e-07, dtype=float32),\n",
       "   array(-4.7683716e-07, dtype=float32),\n",
       "   array(-4.7683716e-07, dtype=float32),\n",
       "   array(-4.7683716e-07, dtype=float32)],\n",
       "  '1': [array(-4.7683716e-07, dtype=float32),\n",
       "   array(-4.7683716e-07, dtype=float32),\n",
       "   array(-2.3841858e-07, dtype=float32),\n",
       "   array(-4.7683716e-07, dtype=float32),\n",
       "   array(-4.7683716e-07, dtype=float32),\n",
       "   array(-4.7683716e-07, dtype=float32),\n",
       "   array(-4.7683716e-07, dtype=float32),\n",
       "   array(-4.7683716e-07, dtype=float32),\n",
       "   array(-4.7683716e-07, dtype=float32),\n",
       "   array(-7.1525574e-07, dtype=float32),\n",
       "   array(-4.7683716e-07, dtype=float32),\n",
       "   array(-4.7683716e-07, dtype=float32),\n",
       "   array(-4.7683716e-07, dtype=float32),\n",
       "   array(-4.7683716e-07, dtype=float32),\n",
       "   array(-4.7683716e-07, dtype=float32),\n",
       "   array(-4.7683716e-07, dtype=float32),\n",
       "   array(-2.3841858e-07, dtype=float32),\n",
       "   array(-4.7683716e-07, dtype=float32),\n",
       "   array(-4.7683716e-07, dtype=float32),\n",
       "   array(-4.7683716e-07, dtype=float32),\n",
       "   array(-4.7683716e-07, dtype=float32),\n",
       "   array(-4.7683716e-07, dtype=float32),\n",
       "   array(-4.7683716e-07, dtype=float32),\n",
       "   array(-4.7683716e-07, dtype=float32),\n",
       "   array(-4.7683716e-07, dtype=float32),\n",
       "   array(-4.7683716e-07, dtype=float32),\n",
       "   array(-4.7683716e-07, dtype=float32),\n",
       "   array(-4.7683716e-07, dtype=float32),\n",
       "   array(-4.7683716e-07, dtype=float32),\n",
       "   array(-4.7683716e-07, dtype=float32),\n",
       "   array(-4.7683716e-07, dtype=float32),\n",
       "   array(-4.7683716e-07, dtype=float32),\n",
       "   array(-4.7683716e-07, dtype=float32),\n",
       "   array(-4.7683716e-07, dtype=float32),\n",
       "   array(-4.7683716e-07, dtype=float32),\n",
       "   array(-4.7683716e-07, dtype=float32),\n",
       "   array(-2.3841858e-07, dtype=float32),\n",
       "   array(-4.7683716e-07, dtype=float32),\n",
       "   array(-4.7683716e-07, dtype=float32),\n",
       "   array(-4.7683716e-07, dtype=float32),\n",
       "   array(-4.7683716e-07, dtype=float32),\n",
       "   array(-4.7683716e-07, dtype=float32),\n",
       "   array(-4.7683716e-07, dtype=float32),\n",
       "   array(-4.7683716e-07, dtype=float32),\n",
       "   array(-4.7683716e-07, dtype=float32),\n",
       "   array(-4.7683716e-07, dtype=float32),\n",
       "   array(-4.7683716e-07, dtype=float32),\n",
       "   array(-4.7683716e-07, dtype=float32),\n",
       "   array(-4.7683716e-07, dtype=float32),\n",
       "   array(-4.7683716e-07, dtype=float32),\n",
       "   array(-4.7683716e-07, dtype=float32),\n",
       "   array(-4.7683716e-07, dtype=float32),\n",
       "   array(-4.7683716e-07, dtype=float32),\n",
       "   array(-4.7683716e-07, dtype=float32),\n",
       "   array(-4.7683716e-07, dtype=float32),\n",
       "   array(-4.7683716e-07, dtype=float32),\n",
       "   array(-2.3841858e-07, dtype=float32),\n",
       "   array(-4.7683716e-07, dtype=float32),\n",
       "   array(-4.7683716e-07, dtype=float32),\n",
       "   array(-4.7683716e-07, dtype=float32),\n",
       "   array(-2.3841858e-07, dtype=float32),\n",
       "   array(-2.3841858e-07, dtype=float32),\n",
       "   array(-4.7683716e-07, dtype=float32),\n",
       "   array(-4.7683716e-07, dtype=float32),\n",
       "   array(-4.7683716e-07, dtype=float32),\n",
       "   array(-4.7683716e-07, dtype=float32),\n",
       "   array(-4.7683716e-07, dtype=float32),\n",
       "   array(-2.3841858e-07, dtype=float32),\n",
       "   array(-2.3841858e-07, dtype=float32),\n",
       "   array(-4.7683716e-07, dtype=float32),\n",
       "   array(-4.7683716e-07, dtype=float32),\n",
       "   array(-2.3841858e-07, dtype=float32),\n",
       "   array(-4.7683716e-07, dtype=float32),\n",
       "   array(-7.1525574e-07, dtype=float32),\n",
       "   array(-4.7683716e-07, dtype=float32),\n",
       "   array(-4.7683716e-07, dtype=float32),\n",
       "   array(-4.7683716e-07, dtype=float32),\n",
       "   array(-4.7683716e-07, dtype=float32),\n",
       "   array(-4.7683716e-07, dtype=float32),\n",
       "   array(-4.7683716e-07, dtype=float32),\n",
       "   array(-4.7683716e-07, dtype=float32),\n",
       "   array(-4.7683716e-07, dtype=float32),\n",
       "   array(-4.7683716e-07, dtype=float32),\n",
       "   array(-4.7683716e-07, dtype=float32),\n",
       "   array(-4.7683716e-07, dtype=float32),\n",
       "   array(-4.7683716e-07, dtype=float32),\n",
       "   array(-4.7683716e-07, dtype=float32),\n",
       "   array(-4.7683716e-07, dtype=float32),\n",
       "   array(-4.7683716e-07, dtype=float32),\n",
       "   array(-4.7683716e-07, dtype=float32),\n",
       "   array(-4.7683716e-07, dtype=float32),\n",
       "   array(-4.7683716e-07, dtype=float32),\n",
       "   array(-4.7683716e-07, dtype=float32),\n",
       "   array(-4.7683716e-07, dtype=float32),\n",
       "   array(-4.7683716e-07, dtype=float32),\n",
       "   array(-4.7683716e-07, dtype=float32),\n",
       "   array(-4.7683716e-07, dtype=float32),\n",
       "   array(-2.3841858e-07, dtype=float32),\n",
       "   array(-4.7683716e-07, dtype=float32),\n",
       "   array(-4.7683716e-07, dtype=float32)]},\n",
       " '2': {'0': [array(-4.7683716e-07, dtype=float32),\n",
       "   array(-4.7683716e-07, dtype=float32),\n",
       "   array(-4.7683716e-07, dtype=float32),\n",
       "   array(-7.1525574e-07, dtype=float32),\n",
       "   array(-7.1525574e-07, dtype=float32),\n",
       "   array(-7.1525574e-07, dtype=float32),\n",
       "   array(-4.7683716e-07, dtype=float32),\n",
       "   array(-7.1525574e-07, dtype=float32),\n",
       "   array(-7.1525574e-07, dtype=float32),\n",
       "   array(-7.1525574e-07, dtype=float32),\n",
       "   array(-7.1525574e-07, dtype=float32),\n",
       "   array(-7.1525574e-07, dtype=float32),\n",
       "   array(-4.7683716e-07, dtype=float32),\n",
       "   array(-7.1525574e-07, dtype=float32),\n",
       "   array(-4.7683716e-07, dtype=float32),\n",
       "   array(-4.7683716e-07, dtype=float32),\n",
       "   array(-4.7683716e-07, dtype=float32),\n",
       "   array(-7.1525574e-07, dtype=float32),\n",
       "   array(-7.1525574e-07, dtype=float32),\n",
       "   array(-4.7683716e-07, dtype=float32),\n",
       "   array(-7.1525574e-07, dtype=float32),\n",
       "   array(-4.7683716e-07, dtype=float32),\n",
       "   array(-4.7683716e-07, dtype=float32),\n",
       "   array(-7.1525574e-07, dtype=float32),\n",
       "   array(-7.1525574e-07, dtype=float32),\n",
       "   array(-7.1525574e-07, dtype=float32),\n",
       "   array(-4.7683716e-07, dtype=float32),\n",
       "   array(-4.7683716e-07, dtype=float32),\n",
       "   array(-4.7683716e-07, dtype=float32),\n",
       "   array(-4.7683716e-07, dtype=float32),\n",
       "   array(-4.7683716e-07, dtype=float32),\n",
       "   array(-4.7683716e-07, dtype=float32),\n",
       "   array(-4.7683716e-07, dtype=float32),\n",
       "   array(-4.7683716e-07, dtype=float32),\n",
       "   array(-7.1525574e-07, dtype=float32),\n",
       "   array(-4.7683716e-07, dtype=float32),\n",
       "   array(-7.1525574e-07, dtype=float32),\n",
       "   array(-4.7683716e-07, dtype=float32),\n",
       "   array(-4.7683716e-07, dtype=float32),\n",
       "   array(-7.1525574e-07, dtype=float32),\n",
       "   array(-4.7683716e-07, dtype=float32),\n",
       "   array(-7.1525574e-07, dtype=float32),\n",
       "   array(-4.7683716e-07, dtype=float32),\n",
       "   array(-7.1525574e-07, dtype=float32),\n",
       "   array(-4.7683716e-07, dtype=float32),\n",
       "   array(-4.7683716e-07, dtype=float32),\n",
       "   array(-7.1525574e-07, dtype=float32),\n",
       "   array(-7.1525574e-07, dtype=float32),\n",
       "   array(-7.1525574e-07, dtype=float32),\n",
       "   array(-7.1525574e-07, dtype=float32),\n",
       "   array(-7.1525574e-07, dtype=float32),\n",
       "   array(-7.1525574e-07, dtype=float32),\n",
       "   array(-4.7683716e-07, dtype=float32),\n",
       "   array(-7.1525574e-07, dtype=float32),\n",
       "   array(-4.7683716e-07, dtype=float32),\n",
       "   array(-7.1525574e-07, dtype=float32),\n",
       "   array(-7.1525574e-07, dtype=float32),\n",
       "   array(-7.1525574e-07, dtype=float32),\n",
       "   array(-4.7683716e-07, dtype=float32),\n",
       "   array(-4.7683716e-07, dtype=float32),\n",
       "   array(-7.1525574e-07, dtype=float32),\n",
       "   array(-4.7683716e-07, dtype=float32),\n",
       "   array(-4.7683716e-07, dtype=float32),\n",
       "   array(-7.1525574e-07, dtype=float32),\n",
       "   array(-7.1525574e-07, dtype=float32),\n",
       "   array(-7.1525574e-07, dtype=float32),\n",
       "   array(-7.1525574e-07, dtype=float32),\n",
       "   array(-7.1525574e-07, dtype=float32),\n",
       "   array(-4.7683716e-07, dtype=float32),\n",
       "   array(-4.7683716e-07, dtype=float32),\n",
       "   array(-4.7683716e-07, dtype=float32),\n",
       "   array(-4.7683716e-07, dtype=float32),\n",
       "   array(-4.7683716e-07, dtype=float32),\n",
       "   array(-7.1525574e-07, dtype=float32),\n",
       "   array(-4.7683716e-07, dtype=float32),\n",
       "   array(-4.7683716e-07, dtype=float32),\n",
       "   array(-7.1525574e-07, dtype=float32),\n",
       "   array(-7.1525574e-07, dtype=float32),\n",
       "   array(-7.1525574e-07, dtype=float32),\n",
       "   array(-7.1525574e-07, dtype=float32),\n",
       "   array(-7.1525574e-07, dtype=float32),\n",
       "   array(-4.7683716e-07, dtype=float32),\n",
       "   array(-4.7683716e-07, dtype=float32),\n",
       "   array(-7.1525574e-07, dtype=float32),\n",
       "   array(-4.7683716e-07, dtype=float32),\n",
       "   array(-7.1525574e-07, dtype=float32),\n",
       "   array(-7.1525574e-07, dtype=float32),\n",
       "   array(-7.1525574e-07, dtype=float32),\n",
       "   array(-7.1525574e-07, dtype=float32),\n",
       "   array(-4.7683716e-07, dtype=float32),\n",
       "   array(-7.1525574e-07, dtype=float32),\n",
       "   array(-4.7683716e-07, dtype=float32),\n",
       "   array(-4.7683716e-07, dtype=float32),\n",
       "   array(-4.7683716e-07, dtype=float32),\n",
       "   array(-7.1525574e-07, dtype=float32),\n",
       "   array(-7.1525574e-07, dtype=float32),\n",
       "   array(-4.7683716e-07, dtype=float32),\n",
       "   array(-7.1525574e-07, dtype=float32),\n",
       "   array(-4.7683716e-07, dtype=float32),\n",
       "   array(-7.1525574e-07, dtype=float32)],\n",
       "  '1': [array(-9.536743e-07, dtype=float32),\n",
       "   array(-7.1525574e-07, dtype=float32),\n",
       "   array(-1.1920929e-06, dtype=float32),\n",
       "   array(-9.536743e-07, dtype=float32),\n",
       "   array(-7.1525574e-07, dtype=float32),\n",
       "   array(-9.536743e-07, dtype=float32),\n",
       "   array(-9.536743e-07, dtype=float32),\n",
       "   array(-9.536743e-07, dtype=float32),\n",
       "   array(-9.536743e-07, dtype=float32),\n",
       "   array(-7.1525574e-07, dtype=float32),\n",
       "   array(-9.536743e-07, dtype=float32),\n",
       "   array(-9.536743e-07, dtype=float32),\n",
       "   array(-9.536743e-07, dtype=float32),\n",
       "   array(-9.536743e-07, dtype=float32),\n",
       "   array(-9.536743e-07, dtype=float32),\n",
       "   array(-9.536743e-07, dtype=float32),\n",
       "   array(-9.536743e-07, dtype=float32),\n",
       "   array(-9.536743e-07, dtype=float32),\n",
       "   array(-9.536743e-07, dtype=float32),\n",
       "   array(-9.536743e-07, dtype=float32),\n",
       "   array(-9.536743e-07, dtype=float32),\n",
       "   array(-9.536743e-07, dtype=float32),\n",
       "   array(-9.536743e-07, dtype=float32),\n",
       "   array(-9.536743e-07, dtype=float32),\n",
       "   array(-9.536743e-07, dtype=float32),\n",
       "   array(-9.536743e-07, dtype=float32),\n",
       "   array(-9.536743e-07, dtype=float32),\n",
       "   array(-9.536743e-07, dtype=float32),\n",
       "   array(-9.536743e-07, dtype=float32),\n",
       "   array(-9.536743e-07, dtype=float32),\n",
       "   array(-7.1525574e-07, dtype=float32),\n",
       "   array(-9.536743e-07, dtype=float32),\n",
       "   array(-7.1525574e-07, dtype=float32),\n",
       "   array(-9.536743e-07, dtype=float32),\n",
       "   array(-9.536743e-07, dtype=float32),\n",
       "   array(-9.536743e-07, dtype=float32),\n",
       "   array(-7.1525574e-07, dtype=float32),\n",
       "   array(-7.1525574e-07, dtype=float32),\n",
       "   array(-9.536743e-07, dtype=float32),\n",
       "   array(-9.536743e-07, dtype=float32),\n",
       "   array(-9.536743e-07, dtype=float32),\n",
       "   array(-9.536743e-07, dtype=float32),\n",
       "   array(-9.536743e-07, dtype=float32),\n",
       "   array(-9.536743e-07, dtype=float32),\n",
       "   array(-7.1525574e-07, dtype=float32),\n",
       "   array(-1.1920929e-06, dtype=float32),\n",
       "   array(-9.536743e-07, dtype=float32),\n",
       "   array(-9.536743e-07, dtype=float32),\n",
       "   array(-7.1525574e-07, dtype=float32),\n",
       "   array(-9.536743e-07, dtype=float32),\n",
       "   array(-9.536743e-07, dtype=float32),\n",
       "   array(-9.536743e-07, dtype=float32),\n",
       "   array(-9.536743e-07, dtype=float32),\n",
       "   array(-7.1525574e-07, dtype=float32),\n",
       "   array(-9.536743e-07, dtype=float32),\n",
       "   array(-7.1525574e-07, dtype=float32),\n",
       "   array(-9.536743e-07, dtype=float32),\n",
       "   array(-9.536743e-07, dtype=float32),\n",
       "   array(-7.1525574e-07, dtype=float32),\n",
       "   array(-9.536743e-07, dtype=float32),\n",
       "   array(-9.536743e-07, dtype=float32),\n",
       "   array(-9.536743e-07, dtype=float32),\n",
       "   array(-7.1525574e-07, dtype=float32),\n",
       "   array(-7.1525574e-07, dtype=float32),\n",
       "   array(-9.536743e-07, dtype=float32),\n",
       "   array(-9.536743e-07, dtype=float32),\n",
       "   array(-7.1525574e-07, dtype=float32),\n",
       "   array(-9.536743e-07, dtype=float32),\n",
       "   array(-9.536743e-07, dtype=float32),\n",
       "   array(-9.536743e-07, dtype=float32),\n",
       "   array(-1.1920929e-06, dtype=float32),\n",
       "   array(-7.1525574e-07, dtype=float32),\n",
       "   array(-9.536743e-07, dtype=float32),\n",
       "   array(-9.536743e-07, dtype=float32),\n",
       "   array(-9.536743e-07, dtype=float32),\n",
       "   array(-9.536743e-07, dtype=float32),\n",
       "   array(-7.1525574e-07, dtype=float32),\n",
       "   array(-9.536743e-07, dtype=float32),\n",
       "   array(-9.536743e-07, dtype=float32),\n",
       "   array(-9.536743e-07, dtype=float32),\n",
       "   array(-9.536743e-07, dtype=float32),\n",
       "   array(-9.536743e-07, dtype=float32),\n",
       "   array(-9.536743e-07, dtype=float32),\n",
       "   array(-9.536743e-07, dtype=float32),\n",
       "   array(-7.1525574e-07, dtype=float32),\n",
       "   array(-9.536743e-07, dtype=float32),\n",
       "   array(-9.536743e-07, dtype=float32),\n",
       "   array(-1.1920929e-06, dtype=float32),\n",
       "   array(-7.1525574e-07, dtype=float32),\n",
       "   array(-9.536743e-07, dtype=float32),\n",
       "   array(-9.536743e-07, dtype=float32),\n",
       "   array(-9.536743e-07, dtype=float32),\n",
       "   array(-7.1525574e-07, dtype=float32),\n",
       "   array(-9.536743e-07, dtype=float32),\n",
       "   array(-9.536743e-07, dtype=float32),\n",
       "   array(-7.1525574e-07, dtype=float32),\n",
       "   array(-7.1525574e-07, dtype=float32),\n",
       "   array(-9.536743e-07, dtype=float32),\n",
       "   array(-9.536743e-07, dtype=float32),\n",
       "   array(-9.536743e-07, dtype=float32)]},\n",
       " '3': {'0': [array(-4.7683716e-07, dtype=float32),\n",
       "   array(-7.1525574e-07, dtype=float32),\n",
       "   array(-7.1525574e-07, dtype=float32),\n",
       "   array(-4.7683716e-07, dtype=float32),\n",
       "   array(-7.1525574e-07, dtype=float32),\n",
       "   array(-7.1525574e-07, dtype=float32),\n",
       "   array(-7.1525574e-07, dtype=float32),\n",
       "   array(-4.7683716e-07, dtype=float32),\n",
       "   array(-7.1525574e-07, dtype=float32),\n",
       "   array(-4.7683716e-07, dtype=float32),\n",
       "   array(-7.1525574e-07, dtype=float32),\n",
       "   array(-4.7683716e-07, dtype=float32),\n",
       "   array(-4.7683716e-07, dtype=float32),\n",
       "   array(-4.7683716e-07, dtype=float32),\n",
       "   array(-4.7683716e-07, dtype=float32),\n",
       "   array(-7.1525574e-07, dtype=float32),\n",
       "   array(-4.7683716e-07, dtype=float32),\n",
       "   array(-4.7683716e-07, dtype=float32),\n",
       "   array(-7.1525574e-07, dtype=float32),\n",
       "   array(-7.1525574e-07, dtype=float32),\n",
       "   array(-7.1525574e-07, dtype=float32),\n",
       "   array(-7.1525574e-07, dtype=float32),\n",
       "   array(-4.7683716e-07, dtype=float32),\n",
       "   array(-7.1525574e-07, dtype=float32),\n",
       "   array(-4.7683716e-07, dtype=float32),\n",
       "   array(-7.1525574e-07, dtype=float32),\n",
       "   array(-7.1525574e-07, dtype=float32),\n",
       "   array(-4.7683716e-07, dtype=float32),\n",
       "   array(-7.1525574e-07, dtype=float32),\n",
       "   array(-7.1525574e-07, dtype=float32),\n",
       "   array(-7.1525574e-07, dtype=float32),\n",
       "   array(-4.7683716e-07, dtype=float32),\n",
       "   array(-7.1525574e-07, dtype=float32),\n",
       "   array(-7.1525574e-07, dtype=float32),\n",
       "   array(-4.7683716e-07, dtype=float32),\n",
       "   array(-7.1525574e-07, dtype=float32),\n",
       "   array(-7.1525574e-07, dtype=float32),\n",
       "   array(-4.7683716e-07, dtype=float32),\n",
       "   array(-7.1525574e-07, dtype=float32),\n",
       "   array(-7.1525574e-07, dtype=float32),\n",
       "   array(-7.1525574e-07, dtype=float32),\n",
       "   array(-4.7683716e-07, dtype=float32),\n",
       "   array(-4.7683716e-07, dtype=float32),\n",
       "   array(-7.1525574e-07, dtype=float32),\n",
       "   array(-7.1525574e-07, dtype=float32),\n",
       "   array(-7.1525574e-07, dtype=float32),\n",
       "   array(-7.1525574e-07, dtype=float32),\n",
       "   array(-4.7683716e-07, dtype=float32),\n",
       "   array(-7.1525574e-07, dtype=float32),\n",
       "   array(-4.7683716e-07, dtype=float32),\n",
       "   array(-7.1525574e-07, dtype=float32),\n",
       "   array(-4.7683716e-07, dtype=float32),\n",
       "   array(-7.1525574e-07, dtype=float32),\n",
       "   array(-4.7683716e-07, dtype=float32),\n",
       "   array(-7.1525574e-07, dtype=float32),\n",
       "   array(-4.7683716e-07, dtype=float32),\n",
       "   array(-7.1525574e-07, dtype=float32),\n",
       "   array(-4.7683716e-07, dtype=float32),\n",
       "   array(-4.7683716e-07, dtype=float32),\n",
       "   array(-4.7683716e-07, dtype=float32),\n",
       "   array(-7.1525574e-07, dtype=float32),\n",
       "   array(-9.536743e-07, dtype=float32),\n",
       "   array(-4.7683716e-07, dtype=float32),\n",
       "   array(-7.1525574e-07, dtype=float32),\n",
       "   array(-4.7683716e-07, dtype=float32),\n",
       "   array(-7.1525574e-07, dtype=float32),\n",
       "   array(-4.7683716e-07, dtype=float32),\n",
       "   array(-7.1525574e-07, dtype=float32),\n",
       "   array(-7.1525574e-07, dtype=float32),\n",
       "   array(-4.7683716e-07, dtype=float32),\n",
       "   array(-4.7683716e-07, dtype=float32),\n",
       "   array(-4.7683716e-07, dtype=float32),\n",
       "   array(-4.7683716e-07, dtype=float32),\n",
       "   array(-4.7683716e-07, dtype=float32),\n",
       "   array(-4.7683716e-07, dtype=float32),\n",
       "   array(-7.1525574e-07, dtype=float32),\n",
       "   array(-7.1525574e-07, dtype=float32),\n",
       "   array(-7.1525574e-07, dtype=float32),\n",
       "   array(-4.7683716e-07, dtype=float32),\n",
       "   array(-7.1525574e-07, dtype=float32),\n",
       "   array(-7.1525574e-07, dtype=float32),\n",
       "   array(-4.7683716e-07, dtype=float32),\n",
       "   array(-4.7683716e-07, dtype=float32),\n",
       "   array(-4.7683716e-07, dtype=float32),\n",
       "   array(-7.1525574e-07, dtype=float32),\n",
       "   array(-7.1525574e-07, dtype=float32),\n",
       "   array(-4.7683716e-07, dtype=float32),\n",
       "   array(-4.7683716e-07, dtype=float32),\n",
       "   array(-7.1525574e-07, dtype=float32),\n",
       "   array(-4.7683716e-07, dtype=float32),\n",
       "   array(-4.7683716e-07, dtype=float32),\n",
       "   array(-4.7683716e-07, dtype=float32),\n",
       "   array(-4.7683716e-07, dtype=float32),\n",
       "   array(-7.1525574e-07, dtype=float32),\n",
       "   array(-7.1525574e-07, dtype=float32),\n",
       "   array(-7.1525574e-07, dtype=float32),\n",
       "   array(-4.7683716e-07, dtype=float32),\n",
       "   array(-7.1525574e-07, dtype=float32),\n",
       "   array(-4.7683716e-07, dtype=float32),\n",
       "   array(-4.7683716e-07, dtype=float32)],\n",
       "  '1': [array(-1.1920929e-06, dtype=float32),\n",
       "   array(-1.1920929e-06, dtype=float32),\n",
       "   array(-9.536743e-07, dtype=float32),\n",
       "   array(-9.536743e-07, dtype=float32),\n",
       "   array(-9.536743e-07, dtype=float32),\n",
       "   array(-9.536743e-07, dtype=float32),\n",
       "   array(-9.536743e-07, dtype=float32),\n",
       "   array(-1.1920929e-06, dtype=float32),\n",
       "   array(-9.536743e-07, dtype=float32),\n",
       "   array(-9.536743e-07, dtype=float32),\n",
       "   array(-1.1920929e-06, dtype=float32),\n",
       "   array(-9.536743e-07, dtype=float32),\n",
       "   array(-9.536743e-07, dtype=float32),\n",
       "   array(-1.1920929e-06, dtype=float32),\n",
       "   array(-9.536743e-07, dtype=float32),\n",
       "   array(-1.1920929e-06, dtype=float32),\n",
       "   array(-9.536743e-07, dtype=float32),\n",
       "   array(-9.536743e-07, dtype=float32),\n",
       "   array(-9.536743e-07, dtype=float32),\n",
       "   array(-9.536743e-07, dtype=float32),\n",
       "   array(-1.1920929e-06, dtype=float32),\n",
       "   array(-9.536743e-07, dtype=float32),\n",
       "   array(-9.536743e-07, dtype=float32),\n",
       "   array(-1.1920929e-06, dtype=float32),\n",
       "   array(-9.536743e-07, dtype=float32),\n",
       "   array(-1.1920929e-06, dtype=float32),\n",
       "   array(-9.536743e-07, dtype=float32),\n",
       "   array(-9.536743e-07, dtype=float32),\n",
       "   array(-9.536743e-07, dtype=float32),\n",
       "   array(-9.536743e-07, dtype=float32),\n",
       "   array(-9.536743e-07, dtype=float32),\n",
       "   array(-1.1920929e-06, dtype=float32),\n",
       "   array(-1.1920929e-06, dtype=float32),\n",
       "   array(-1.1920929e-06, dtype=float32),\n",
       "   array(-9.536743e-07, dtype=float32),\n",
       "   array(-1.1920929e-06, dtype=float32),\n",
       "   array(-9.536743e-07, dtype=float32),\n",
       "   array(-9.536743e-07, dtype=float32),\n",
       "   array(-9.536743e-07, dtype=float32),\n",
       "   array(-9.536743e-07, dtype=float32),\n",
       "   array(-9.536743e-07, dtype=float32),\n",
       "   array(-9.536743e-07, dtype=float32),\n",
       "   array(-9.536743e-07, dtype=float32),\n",
       "   array(-1.1920929e-06, dtype=float32),\n",
       "   array(-9.536743e-07, dtype=float32),\n",
       "   array(-1.4305115e-06, dtype=float32),\n",
       "   array(-9.536743e-07, dtype=float32),\n",
       "   array(-9.536743e-07, dtype=float32),\n",
       "   array(-9.536743e-07, dtype=float32),\n",
       "   array(-1.1920929e-06, dtype=float32),\n",
       "   array(-9.536743e-07, dtype=float32),\n",
       "   array(-1.1920929e-06, dtype=float32),\n",
       "   array(-9.536743e-07, dtype=float32),\n",
       "   array(-1.1920929e-06, dtype=float32),\n",
       "   array(-1.1920929e-06, dtype=float32),\n",
       "   array(-9.536743e-07, dtype=float32),\n",
       "   array(-9.536743e-07, dtype=float32),\n",
       "   array(-9.536743e-07, dtype=float32),\n",
       "   array(-9.536743e-07, dtype=float32),\n",
       "   array(-1.1920929e-06, dtype=float32),\n",
       "   array(-9.536743e-07, dtype=float32),\n",
       "   array(-9.536743e-07, dtype=float32),\n",
       "   array(-9.536743e-07, dtype=float32),\n",
       "   array(-9.536743e-07, dtype=float32),\n",
       "   array(-9.536743e-07, dtype=float32),\n",
       "   array(-9.536743e-07, dtype=float32),\n",
       "   array(-1.1920929e-06, dtype=float32),\n",
       "   array(-9.536743e-07, dtype=float32),\n",
       "   array(-1.1920929e-06, dtype=float32),\n",
       "   array(-9.536743e-07, dtype=float32),\n",
       "   array(-9.536743e-07, dtype=float32),\n",
       "   array(-1.1920929e-06, dtype=float32),\n",
       "   array(-9.536743e-07, dtype=float32),\n",
       "   array(-1.1920929e-06, dtype=float32),\n",
       "   array(-9.536743e-07, dtype=float32),\n",
       "   array(-9.536743e-07, dtype=float32),\n",
       "   array(-1.1920929e-06, dtype=float32),\n",
       "   array(-9.536743e-07, dtype=float32),\n",
       "   array(-9.536743e-07, dtype=float32),\n",
       "   array(-9.536743e-07, dtype=float32),\n",
       "   array(-1.4305115e-06, dtype=float32),\n",
       "   array(-9.536743e-07, dtype=float32),\n",
       "   array(-9.536743e-07, dtype=float32),\n",
       "   array(-9.536743e-07, dtype=float32),\n",
       "   array(-9.536743e-07, dtype=float32),\n",
       "   array(-1.1920929e-06, dtype=float32),\n",
       "   array(-9.536743e-07, dtype=float32),\n",
       "   array(-9.536743e-07, dtype=float32),\n",
       "   array(-9.536743e-07, dtype=float32),\n",
       "   array(-9.536743e-07, dtype=float32),\n",
       "   array(-1.1920929e-06, dtype=float32),\n",
       "   array(-9.536743e-07, dtype=float32),\n",
       "   array(-9.536743e-07, dtype=float32),\n",
       "   array(-9.536743e-07, dtype=float32),\n",
       "   array(-9.536743e-07, dtype=float32),\n",
       "   array(-9.536743e-07, dtype=float32),\n",
       "   array(-9.536743e-07, dtype=float32),\n",
       "   array(-9.536743e-07, dtype=float32),\n",
       "   array(-1.1920929e-06, dtype=float32),\n",
       "   array(-9.536743e-07, dtype=float32)]}}"
      ]
     },
     "execution_count": 23,
     "metadata": {},
     "output_type": "execute_result"
    }
   ],
   "source": [
    "get_losses('results/self_instance_cz_2q', range(4), 2)"
   ]
  },
  {
   "cell_type": "code",
   "execution_count": 3,
   "id": "d20942bc-2d87-4a0d-afb0-fe4efdc62fc8",
   "metadata": {},
   "outputs": [
    {
     "data": {
      "text/plain": [
       "{6: [DeviceArray(0.06, dtype=float32)],\n",
       " 8: [DeviceArray(0.02, dtype=float32)],\n",
       " 12: [DeviceArray(0., dtype=float32)]}"
      ]
     },
     "execution_count": 3,
     "metadata": {},
     "output_type": "execute_result"
    }
   ],
   "source": [
    "chart_success_ratio('self_instance', 'cz', 3, [6, 8, 12], 1, 100)"
   ]
  },
  {
   "cell_type": "code",
   "execution_count": 9,
   "id": "9707040a-a627-4f73-be46-cfab5adb775c",
   "metadata": {},
   "outputs": [
    {
     "data": {
      "text/plain": [
       "{6: [DeviceArray(0.4, dtype=float32)],\n",
       " 8: [DeviceArray(0.01, dtype=float32)],\n",
       " 12: [DeviceArray(1., dtype=float32)]}"
      ]
     },
     "execution_count": 9,
     "metadata": {},
     "output_type": "execute_result"
    }
   ],
   "source": [
    "chart_success_ratio('self_instance', 'cp', 3, [6, 8, 12], 1, 100)"
   ]
  },
  {
   "cell_type": "code",
   "execution_count": 2,
   "id": "ff0b7cc3-2db7-4fa2-8693-6b4950c2ef9d",
   "metadata": {},
   "outputs": [
    {
     "data": {
      "text/plain": [
       "{6: [DeviceArray(0.06, dtype=float32)],\n",
       " 8: [DeviceArray(0.02, dtype=float32)],\n",
       " 12: [DeviceArray(0.02, dtype=float32)]}"
      ]
     },
     "execution_count": 2,
     "metadata": {},
     "output_type": "execute_result"
    }
   ],
   "source": [
    "chart_success_ratio('random_unitary', 'cz', 3, [6, 8, 12], 1, 100)"
   ]
  },
  {
   "cell_type": "code",
   "execution_count": 4,
   "id": "1858ee81-09f7-4a77-829f-bd540ca49969",
   "metadata": {},
   "outputs": [
    {
     "data": {
      "text/plain": [
       "{6: [DeviceArray(0.63, dtype=float32)],\n",
       " 8: [DeviceArray(1., dtype=float32)],\n",
       " 12: [DeviceArray(0.98, dtype=float32)]}"
      ]
     },
     "execution_count": 4,
     "metadata": {},
     "output_type": "execute_result"
    }
   ],
   "source": [
    "chart_success_ratio('fixed_unitary', 'cz', 3, [6, 8, 12], 1, 100, fixed_unitary=jnp.identity(2**3))"
   ]
  },
  {
   "cell_type": "code",
   "execution_count": 5,
   "id": "5d5d500c-0df2-4384-93bd-d62f2ff597a7",
   "metadata": {},
   "outputs": [
    {
     "data": {
      "text/plain": [
       "{6: [DeviceArray(0.99, dtype=float32)],\n",
       " 8: [DeviceArray(1., dtype=float32)],\n",
       " 12: [DeviceArray(1., dtype=float32)]}"
      ]
     },
     "execution_count": 5,
     "metadata": {},
     "output_type": "execute_result"
    }
   ],
   "source": [
    "chart_success_ratio('fixed_unitary', 'cp', 3, [6, 8, 12], 1, 100, fixed_unitary=jnp.identity(2**3))"
   ]
  },
  {
   "cell_type": "code",
   "execution_count": 4,
   "id": "d93282d0-209a-4800-9063-a456833ccaa5",
   "metadata": {},
   "outputs": [
    {
     "data": {
      "text/plain": [
       "DeviceArray(0.98, dtype=float32)"
      ]
     },
     "execution_count": 4,
     "metadata": {},
     "output_type": "execute_result"
    }
   ],
   "source": [
    "success_ratio('self_instance', 2, 2, 100, 0, 1e-4)"
   ]
  },
  {
   "cell_type": "code",
   "execution_count": 12,
   "id": "46ab8d44-66d5-430d-969a-c8249549a0ca",
   "metadata": {},
   "outputs": [
    {
     "data": {
      "image/png": "[encoded data removed]",
      "text/plain": [
       "<Figure size 432x288 with 1 Axes>"
      ]
     },
     "metadata": {
      "needs_background": "light"
     },
     "output_type": "display_data"
    }
   ],
   "source": [
    "results = Results.load('results/fixed_unitary_cz_3q_12d_0')\n",
    "plt.hist(np.array(results.all_best_losses));"
   ]
  },
  {
   "cell_type": "code",
   "execution_count": 8,
   "id": "717e740b-7b01-4418-a924-63dc71300def",
   "metadata": {},
   "outputs": [],
   "source": [
    "fr = [r for r in results.all_results if r.best_loss > 1e-4]"
   ]
  },
  {
   "cell_type": "code",
   "execution_count": 10,
   "id": "bc09899f-04c1-411c-852a-37fa02b80f10",
   "metadata": {},
   "outputs": [
    {
     "data": {
      "text/plain": [
       "OptOptions(learning_rate=0.01, num_iterations=100, random_seed=0, regularization_func=None, keep_history=True)"
      ]
     },
     "execution_count": 10,
     "metadata": {},
     "output_type": "execute_result"
    }
   ],
   "source": [
    "OptOptions()"
   ]
  },
  {
   "cell_type": "code",
   "execution_count": 9,
   "id": "b2b2e53b-98d2-42b5-9e82-ddaaaf463063",
   "metadata": {},
   "outputs": [
    {
     "data": {
      "image/png": "[encoded data removed]",
      "text/plain": [
       "<Figure size 432x288 with 1 Axes>"
      ]
     },
     "metadata": {
      "needs_background": "light"
     },
     "output_type": "display_data"
    }
   ],
   "source": [
    "fr[0].plot_loss_history()"
   ]
  },
  {
   "cell_type": "code",
   "execution_count": null,
   "id": "2afd373c-83d6-4ec9-b548-c905956e447d",
   "metadata": {},
   "outputs": [],
   "source": []
  },
  {
   "cell_type": "code",
   "execution_count": 23,
   "id": "2cd0bef0-bdbf-44a5-9e1c-c12013762e7c",
   "metadata": {},
   "outputs": [],
   "source": [
    "def remove_gate(circuit, n):\n",
    "\n",
    "    gate_num = 0    \n",
    "    for i, op in enumerate(circuit.data):        \n",
    "        if op[0].name in ['rx', 'ry', 'rz']:\n",
    "            if gate_num == n:\n",
    "                gate_to_remove = i\n",
    "                break\n",
    "            else:\n",
    "                gate_num += 1\n",
    "    qc = circuit.copy()            \n",
    "    del qc.data[gate_to_remove]\n",
    "    \n",
    "    return qc"
   ]
  },
  {
   "cell_type": "code",
   "execution_count": null,
   "id": "ca7d7190-19ab-4c59-a679-615b2b14a9e4",
   "metadata": {},
   "outputs": [],
   "source": []
  },
  {
   "cell_type": "code",
   "execution_count": 132,
   "id": "ce01ede5-9435-4ddf-bae6-08b18da3d004",
   "metadata": {},
   "outputs": [],
   "source": [
    "num_qubits = 4\n",
    "depth = 30\n",
    "n_gate = 50\n",
    "\n",
    "anz = Ansatz(num_qubits, 'cz', fill_layers(connected_layer(num_qubits), depth))\n",
    "\n",
    "angles_target = random.uniform(random.PRNGKey(1), (anz.num_angles, ), minval=0, maxval=2*jnp.pi)\n",
    "u_target = anz.unitary(angles_target)\n",
    "\n",
    "u_missing_gate = constrained_function(anz.unitary, [0], [n_gate])\n",
    "angles_missing_gate_initial = jnp.delete(angles_target, n_gate)\n",
    "\n",
    "A = namedtuple('Angles', ['angles'])\n",
    "\n",
    "loss = lambda a: cost_HST(u_missing_gate(a.angles), u_target)\n",
    "result = mynimize(loss, [A(angles_missing_gate_initial)], OptOptions(num_iterations=2000))"
   ]
  },
  {
   "cell_type": "code",
   "execution_count": 133,
   "id": "a8b6bfb0-3c06-44f3-88bc-cf419b77e561",
   "metadata": {},
   "outputs": [
    {
     "data": {
      "text/plain": [
       "OptMultiResult(best_loss -9.5367431640625e-07, success_ratio 0.0, num_samples 1)"
      ]
     },
     "execution_count": 133,
     "metadata": {},
     "output_type": "execute_result"
    }
   ],
   "source": [
    "result"
   ]
  },
  {
   "cell_type": "code",
   "execution_count": 127,
   "id": "928fd0cb-c5ed-44e3-8381-23d435da6308",
   "metadata": {},
   "outputs": [
    {
     "data": {
      "image/png": "[encoded data removed]",
      "text/plain": [
       "<Figure size 432x288 with 1 Axes>"
      ]
     },
     "metadata": {
      "needs_background": "light"
     },
     "output_type": "display_data"
    }
   ],
   "source": [
    "result.best_result.plot_loss_history()"
   ]
  },
  {
   "cell_type": "code",
   "execution_count": 107,
   "id": "bae8437d-feb4-4712-b98b-c6d5e1d3c3e1",
   "metadata": {},
   "outputs": [
    {
     "data": {
      "text/plain": [
       "DeviceArray(-4.7683716e-07, dtype=float32)"
      ]
     },
     "execution_count": 107,
     "metadata": {},
     "output_type": "execute_result"
    }
   ],
   "source": [
    "cost_HST(anz.unitary(angles_target.at[n_gate].set(0)), u_missing_gate(angles_missing_gate_initial))"
   ]
  },
  {
   "cell_type": "code",
   "execution_count": 108,
   "id": "8b7af85a-4178-47ac-aa90-c7de41320856",
   "metadata": {},
   "outputs": [
    {
     "data": {
      "text/plain": [
       "DeviceArray(0.5684607, dtype=float32)"
      ]
     },
     "execution_count": 108,
     "metadata": {},
     "output_type": "execute_result"
    }
   ],
   "source": [
    "cost_HST(u_target, u_missing_gate(angles_missing_gate_initial))"
   ]
  },
  {
   "cell_type": "code",
   "execution_count": 75,
   "id": "f75f4c51-c846-4ff9-8784-ad8c507ca791",
   "metadata": {},
   "outputs": [],
   "source": [
    "num_qubits = 3\n",
    "depth = 4\n",
    "n_gate = 0\n",
    "\n",
    "anz = Ansatz(num_qubits, 'cz', fill_layers(connected_layer(num_qubits), depth))\n",
    "\n",
    "pqc = anz.circuit()\n",
    "pqc_missing_gate = remove_gate(pqc, n_gate)\n",
    "\n",
    "angles_target = random.uniform(random.PRNGKey(0), (anz.num_angles, ), minval=0, maxval=2*jnp.pi)\n",
    "angles_target = np.array(angles_target)\n",
    "\n",
    "pqc_dict_target = {p:a for p, a in zip(pqc.parameters.data, angles_target)}\n",
    "pqc_missing_gate_dict_initial = {key:value for key, value in pqc_dict_target.items() if key in pqc_missing_gate.parameters.data}\n",
    "# angles_target = np.array(angles_target)"
   ]
  },
  {
   "cell_type": "code",
   "execution_count": 83,
   "id": "2c92da58-2825-426c-8a46-62ab9eb08273",
   "metadata": {},
   "outputs": [
    {
     "data": {
      "text/plain": [
       "ParameterView([Parameter(a_{0}), Parameter(a_{10}), Parameter(a_{11}), Parameter(a_{12}), Parameter(a_{13}), Parameter(a_{14}), Parameter(a_{15}), Parameter(a_{16}), Parameter(a_{17}), Parameter(a_{18}), Parameter(a_{19}), Parameter(a_{1}), Parameter(a_{20}), Parameter(a_{21}), Parameter(a_{22}), Parameter(a_{23}), Parameter(a_{24}), Parameter(a_{25}), Parameter(a_{26}), Parameter(a_{27}), Parameter(a_{28}), Parameter(a_{29}), Parameter(a_{2}), Parameter(a_{30}), Parameter(a_{31}), Parameter(a_{32}), Parameter(a_{3}), Parameter(a_{4}), Parameter(a_{5}), Parameter(a_{6}), Parameter(a_{7}), Parameter(a_{8}), Parameter(a_{9})])"
      ]
     },
     "execution_count": 83,
     "metadata": {},
     "output_type": "execute_result"
    }
   ],
   "source": [
    "pqc_missing_gate.parameters"
   ]
  },
  {
   "cell_type": "code",
   "execution_count": 82,
   "id": "fe4fe158-98fb-4e0d-856d-274684443a07",
   "metadata": {},
   "outputs": [
    {
     "data": {
      "image/png": "[encoded data removed]",
      "text/plain": [
       "<Figure size 1230.4x204.68 with 1 Axes>"
      ]
     },
     "execution_count": 82,
     "metadata": {},
     "output_type": "execute_result"
    }
   ],
   "source": [
    "pqc_missing_gate.draw(output='mpl')"
   ]
  },
  {
   "cell_type": "code",
   "execution_count": 80,
   "id": "9575a8f2-69c4-472a-866a-659f92a6b2c2",
   "metadata": {},
   "outputs": [
    {
     "data": {
      "text/plain": [
       "33"
      ]
     },
     "execution_count": 80,
     "metadata": {},
     "output_type": "execute_result"
    }
   ],
   "source": [
    "len(pqc_missing_gate.parameters)"
   ]
  },
  {
   "cell_type": "code",
   "execution_count": 81,
   "id": "524dcfca-36e2-429f-9798-19ccb2896c88",
   "metadata": {},
   "outputs": [
    {
     "data": {
      "text/plain": [
       "33"
      ]
     },
     "execution_count": 81,
     "metadata": {},
     "output_type": "execute_result"
    }
   ],
   "source": [
    "len(pqc.parameters)"
   ]
  },
  {
   "cell_type": "code",
   "execution_count": 79,
   "id": "5c9ecaf5-58b5-475d-bc55-a08732543e5e",
   "metadata": {},
   "outputs": [
    {
     "data": {
      "text/plain": [
       "33"
      ]
     },
     "execution_count": 79,
     "metadata": {},
     "output_type": "execute_result"
    }
   ],
   "source": [
    "len(pqc_dict_target)"
   ]
  },
  {
   "cell_type": "code",
   "execution_count": 78,
   "id": "575aaa8f-be79-4315-a3bd-5a47069a4cc8",
   "metadata": {},
   "outputs": [
    {
     "data": {
      "text/plain": [
       "33"
      ]
     },
     "execution_count": 78,
     "metadata": {},
     "output_type": "execute_result"
    }
   ],
   "source": [
    "len(pqc_missing_gate_dict_initial)"
   ]
  },
  {
   "cell_type": "code",
   "execution_count": 76,
   "id": "1cef660b-8680-4475-9e8a-62f8d81b9331",
   "metadata": {},
   "outputs": [
    {
     "ename": "KeyError",
     "evalue": "140262195370784",
     "output_type": "error",
     "traceback": [
      "\u001b[0;31m---------------------------------------------------------------------------\u001b[0m",
      "\u001b[0;31mKeyError\u001b[0m                                  Traceback (most recent call last)",
      "Input \u001b[0;32mIn [76]\u001b[0m, in \u001b[0;36m<cell line: 1>\u001b[0;34m()\u001b[0m\n\u001b[0;32m----> 1\u001b[0m \u001b[43mpqc_missing_gate\u001b[49m\u001b[38;5;241;43m.\u001b[39;49m\u001b[43massign_parameters\u001b[49m\u001b[43m(\u001b[49m\u001b[43mpqc_missing_gate_dict_initial\u001b[49m\u001b[43m)\u001b[49m\n",
      "File \u001b[0;32m~/coding/jax_circuits/pypi/lib/python3.8/site-packages/qiskit/circuit/quantumcircuit.py:2456\u001b[0m, in \u001b[0;36mQuantumCircuit.assign_parameters\u001b[0;34m(self, parameters, inplace)\u001b[0m\n\u001b[1;32m   2454\u001b[0m     bound_circuit \u001b[38;5;241m=\u001b[39m \u001b[38;5;28mself\u001b[39m\n\u001b[1;32m   2455\u001b[0m \u001b[38;5;28;01melse\u001b[39;00m:\n\u001b[0;32m-> 2456\u001b[0m     bound_circuit \u001b[38;5;241m=\u001b[39m \u001b[38;5;28;43mself\u001b[39;49m\u001b[38;5;241;43m.\u001b[39;49m\u001b[43mcopy\u001b[49m\u001b[43m(\u001b[49m\u001b[43m)\u001b[49m\n\u001b[1;32m   2457\u001b[0m     \u001b[38;5;28mself\u001b[39m\u001b[38;5;241m.\u001b[39m_increment_instances()\n\u001b[1;32m   2458\u001b[0m     bound_circuit\u001b[38;5;241m.\u001b[39m_name_update()\n",
      "File \u001b[0;32m~/coding/jax_circuits/pypi/lib/python3.8/site-packages/qiskit/circuit/quantumcircuit.py:2106\u001b[0m, in \u001b[0;36mQuantumCircuit.copy\u001b[0;34m(self, name)\u001b[0m\n\u001b[1;32m   2101\u001b[0m instr_instances \u001b[38;5;241m=\u001b[39m {\u001b[38;5;28mid\u001b[39m(instr): instr \u001b[38;5;28;01mfor\u001b[39;00m instr, _, __ \u001b[38;5;129;01min\u001b[39;00m \u001b[38;5;28mself\u001b[39m\u001b[38;5;241m.\u001b[39m_data}\n\u001b[1;32m   2103\u001b[0m instr_copies \u001b[38;5;241m=\u001b[39m {id_: instr\u001b[38;5;241m.\u001b[39mcopy() \u001b[38;5;28;01mfor\u001b[39;00m id_, instr \u001b[38;5;129;01min\u001b[39;00m instr_instances\u001b[38;5;241m.\u001b[39mitems()}\n\u001b[1;32m   2105\u001b[0m cpy\u001b[38;5;241m.\u001b[39m_parameter_table \u001b[38;5;241m=\u001b[39m ParameterTable(\n\u001b[0;32m-> 2106\u001b[0m     {\n\u001b[1;32m   2107\u001b[0m         param: [\n\u001b[1;32m   2108\u001b[0m             (instr_copies[\u001b[38;5;28mid\u001b[39m(instr)], param_index)\n\u001b[1;32m   2109\u001b[0m             \u001b[38;5;28;01mfor\u001b[39;00m instr, param_index \u001b[38;5;129;01min\u001b[39;00m \u001b[38;5;28mself\u001b[39m\u001b[38;5;241m.\u001b[39m_parameter_table[param]\n\u001b[1;32m   2110\u001b[0m         ]\n\u001b[1;32m   2111\u001b[0m         \u001b[38;5;28;01mfor\u001b[39;00m param \u001b[38;5;129;01min\u001b[39;00m \u001b[38;5;28mself\u001b[39m\u001b[38;5;241m.\u001b[39m_parameter_table\n\u001b[1;32m   2112\u001b[0m     }\n\u001b[1;32m   2113\u001b[0m )\n\u001b[1;32m   2115\u001b[0m cpy\u001b[38;5;241m.\u001b[39m_data \u001b[38;5;241m=\u001b[39m [\n\u001b[1;32m   2116\u001b[0m     (instr_copies[\u001b[38;5;28mid\u001b[39m(inst)], qargs\u001b[38;5;241m.\u001b[39mcopy(), cargs\u001b[38;5;241m.\u001b[39mcopy())\n\u001b[1;32m   2117\u001b[0m     \u001b[38;5;28;01mfor\u001b[39;00m inst, qargs, cargs \u001b[38;5;129;01min\u001b[39;00m \u001b[38;5;28mself\u001b[39m\u001b[38;5;241m.\u001b[39m_data\n\u001b[1;32m   2118\u001b[0m ]\n\u001b[1;32m   2120\u001b[0m cpy\u001b[38;5;241m.\u001b[39m_calibrations \u001b[38;5;241m=\u001b[39m copy\u001b[38;5;241m.\u001b[39mdeepcopy(\u001b[38;5;28mself\u001b[39m\u001b[38;5;241m.\u001b[39m_calibrations)\n",
      "File \u001b[0;32m~/coding/jax_circuits/pypi/lib/python3.8/site-packages/qiskit/circuit/quantumcircuit.py:2107\u001b[0m, in \u001b[0;36m<dictcomp>\u001b[0;34m(.0)\u001b[0m\n\u001b[1;32m   2101\u001b[0m instr_instances \u001b[38;5;241m=\u001b[39m {\u001b[38;5;28mid\u001b[39m(instr): instr \u001b[38;5;28;01mfor\u001b[39;00m instr, _, __ \u001b[38;5;129;01min\u001b[39;00m \u001b[38;5;28mself\u001b[39m\u001b[38;5;241m.\u001b[39m_data}\n\u001b[1;32m   2103\u001b[0m instr_copies \u001b[38;5;241m=\u001b[39m {id_: instr\u001b[38;5;241m.\u001b[39mcopy() \u001b[38;5;28;01mfor\u001b[39;00m id_, instr \u001b[38;5;129;01min\u001b[39;00m instr_instances\u001b[38;5;241m.\u001b[39mitems()}\n\u001b[1;32m   2105\u001b[0m cpy\u001b[38;5;241m.\u001b[39m_parameter_table \u001b[38;5;241m=\u001b[39m ParameterTable(\n\u001b[1;32m   2106\u001b[0m     {\n\u001b[0;32m-> 2107\u001b[0m         param: [\n\u001b[1;32m   2108\u001b[0m             (instr_copies[\u001b[38;5;28mid\u001b[39m(instr)], param_index)\n\u001b[1;32m   2109\u001b[0m             \u001b[38;5;28;01mfor\u001b[39;00m instr, param_index \u001b[38;5;129;01min\u001b[39;00m \u001b[38;5;28mself\u001b[39m\u001b[38;5;241m.\u001b[39m_parameter_table[param]\n\u001b[1;32m   2110\u001b[0m         ]\n\u001b[1;32m   2111\u001b[0m         \u001b[38;5;28;01mfor\u001b[39;00m param \u001b[38;5;129;01min\u001b[39;00m \u001b[38;5;28mself\u001b[39m\u001b[38;5;241m.\u001b[39m_parameter_table\n\u001b[1;32m   2112\u001b[0m     }\n\u001b[1;32m   2113\u001b[0m )\n\u001b[1;32m   2115\u001b[0m cpy\u001b[38;5;241m.\u001b[39m_data \u001b[38;5;241m=\u001b[39m [\n\u001b[1;32m   2116\u001b[0m     (instr_copies[\u001b[38;5;28mid\u001b[39m(inst)], qargs\u001b[38;5;241m.\u001b[39mcopy(), cargs\u001b[38;5;241m.\u001b[39mcopy())\n\u001b[1;32m   2117\u001b[0m     \u001b[38;5;28;01mfor\u001b[39;00m inst, qargs, cargs \u001b[38;5;129;01min\u001b[39;00m \u001b[38;5;28mself\u001b[39m\u001b[38;5;241m.\u001b[39m_data\n\u001b[1;32m   2118\u001b[0m ]\n\u001b[1;32m   2120\u001b[0m cpy\u001b[38;5;241m.\u001b[39m_calibrations \u001b[38;5;241m=\u001b[39m copy\u001b[38;5;241m.\u001b[39mdeepcopy(\u001b[38;5;28mself\u001b[39m\u001b[38;5;241m.\u001b[39m_calibrations)\n",
      "File \u001b[0;32m~/coding/jax_circuits/pypi/lib/python3.8/site-packages/qiskit/circuit/quantumcircuit.py:2108\u001b[0m, in \u001b[0;36m<listcomp>\u001b[0;34m(.0)\u001b[0m\n\u001b[1;32m   2101\u001b[0m instr_instances \u001b[38;5;241m=\u001b[39m {\u001b[38;5;28mid\u001b[39m(instr): instr \u001b[38;5;28;01mfor\u001b[39;00m instr, _, __ \u001b[38;5;129;01min\u001b[39;00m \u001b[38;5;28mself\u001b[39m\u001b[38;5;241m.\u001b[39m_data}\n\u001b[1;32m   2103\u001b[0m instr_copies \u001b[38;5;241m=\u001b[39m {id_: instr\u001b[38;5;241m.\u001b[39mcopy() \u001b[38;5;28;01mfor\u001b[39;00m id_, instr \u001b[38;5;129;01min\u001b[39;00m instr_instances\u001b[38;5;241m.\u001b[39mitems()}\n\u001b[1;32m   2105\u001b[0m cpy\u001b[38;5;241m.\u001b[39m_parameter_table \u001b[38;5;241m=\u001b[39m ParameterTable(\n\u001b[1;32m   2106\u001b[0m     {\n\u001b[1;32m   2107\u001b[0m         param: [\n\u001b[0;32m-> 2108\u001b[0m             (\u001b[43minstr_copies\u001b[49m\u001b[43m[\u001b[49m\u001b[38;5;28;43mid\u001b[39;49m\u001b[43m(\u001b[49m\u001b[43minstr\u001b[49m\u001b[43m)\u001b[49m\u001b[43m]\u001b[49m, param_index)\n\u001b[1;32m   2109\u001b[0m             \u001b[38;5;28;01mfor\u001b[39;00m instr, param_index \u001b[38;5;129;01min\u001b[39;00m \u001b[38;5;28mself\u001b[39m\u001b[38;5;241m.\u001b[39m_parameter_table[param]\n\u001b[1;32m   2110\u001b[0m         ]\n\u001b[1;32m   2111\u001b[0m         \u001b[38;5;28;01mfor\u001b[39;00m param \u001b[38;5;129;01min\u001b[39;00m \u001b[38;5;28mself\u001b[39m\u001b[38;5;241m.\u001b[39m_parameter_table\n\u001b[1;32m   2112\u001b[0m     }\n\u001b[1;32m   2113\u001b[0m )\n\u001b[1;32m   2115\u001b[0m cpy\u001b[38;5;241m.\u001b[39m_data \u001b[38;5;241m=\u001b[39m [\n\u001b[1;32m   2116\u001b[0m     (instr_copies[\u001b[38;5;28mid\u001b[39m(inst)], qargs\u001b[38;5;241m.\u001b[39mcopy(), cargs\u001b[38;5;241m.\u001b[39mcopy())\n\u001b[1;32m   2117\u001b[0m     \u001b[38;5;28;01mfor\u001b[39;00m inst, qargs, cargs \u001b[38;5;129;01min\u001b[39;00m \u001b[38;5;28mself\u001b[39m\u001b[38;5;241m.\u001b[39m_data\n\u001b[1;32m   2118\u001b[0m ]\n\u001b[1;32m   2120\u001b[0m cpy\u001b[38;5;241m.\u001b[39m_calibrations \u001b[38;5;241m=\u001b[39m copy\u001b[38;5;241m.\u001b[39mdeepcopy(\u001b[38;5;28mself\u001b[39m\u001b[38;5;241m.\u001b[39m_calibrations)\n",
      "\u001b[0;31mKeyError\u001b[0m: 140262195370784"
     ]
    }
   ],
   "source": [
    "pqc_missing_gate.assign_parameters(pqc_missing_gate_dict_initial)"
   ]
  },
  {
   "cell_type": "code",
   "execution_count": 73,
   "id": "1984c58e-b000-44df-be08-a7180eecff3c",
   "metadata": {},
   "outputs": [
    {
     "data": {
      "image/png": "[encoded data removed]",
      "text/plain": [
       "<Figure size 1591.6x445.48 with 1 Axes>"
      ]
     },
     "execution_count": 73,
     "metadata": {},
     "output_type": "execute_result"
    }
   ],
   "source": [
    "pqc.assign_parameters(pqc_dict_target).draw(output='mpl')"
   ]
  },
  {
   "cell_type": "code",
   "execution_count": 68,
   "id": "d9bfe185-efb9-4ed1-b662-013eac4519c3",
   "metadata": {},
   "outputs": [
    {
     "data": {
      "text/plain": [
       "[Parameter(a_{0}),\n",
       " Parameter(a_{10}),\n",
       " Parameter(a_{11}),\n",
       " Parameter(a_{12}),\n",
       " Parameter(a_{13}),\n",
       " Parameter(a_{14}),\n",
       " Parameter(a_{15}),\n",
       " Parameter(a_{16}),\n",
       " Parameter(a_{17}),\n",
       " Parameter(a_{18}),\n",
       " Parameter(a_{19}),\n",
       " Parameter(a_{1}),\n",
       " Parameter(a_{20}),\n",
       " Parameter(a_{21}),\n",
       " Parameter(a_{22}),\n",
       " Parameter(a_{23}),\n",
       " Parameter(a_{24}),\n",
       " Parameter(a_{25}),\n",
       " Parameter(a_{26}),\n",
       " Parameter(a_{27}),\n",
       " Parameter(a_{28}),\n",
       " Parameter(a_{29}),\n",
       " Parameter(a_{2}),\n",
       " Parameter(a_{30}),\n",
       " Parameter(a_{31}),\n",
       " Parameter(a_{32}),\n",
       " Parameter(a_{3}),\n",
       " Parameter(a_{4}),\n",
       " Parameter(a_{5}),\n",
       " Parameter(a_{6}),\n",
       " Parameter(a_{7}),\n",
       " Parameter(a_{8}),\n",
       " Parameter(a_{9})]"
      ]
     },
     "execution_count": 68,
     "metadata": {},
     "output_type": "execute_result"
    }
   ],
   "source": [
    "pqc_dict_target.data"
   ]
  },
  {
   "cell_type": "code",
   "execution_count": 56,
   "id": "124c7594-78f8-4016-bfb5-f351543d9695",
   "metadata": {},
   "outputs": [],
   "source": [
    "pd = {p: a for p, a in zip(anz.circuit().parameters, angles_target)}"
   ]
  },
  {
   "cell_type": "code",
   "execution_count": 62,
   "id": "2d5831a7-7baa-4c15-9295-33e361ed2b15",
   "metadata": {},
   "outputs": [
    {
     "data": {
      "text/plain": [
       "Parameter(a_{0})"
      ]
     },
     "execution_count": 62,
     "metadata": {},
     "output_type": "execute_result"
    }
   ],
   "source": [
    "anz.circuit().parameters[0]"
   ]
  },
  {
   "cell_type": "code",
   "execution_count": 65,
   "id": "0fb9138b-ce70-4bda-a1de-55d43d6feab9",
   "metadata": {},
   "outputs": [
    {
     "data": {
      "image/png": "[encoded data removed]",
      "text/plain": [
       "<Figure size 1230.4x204.68 with 1 Axes>"
      ]
     },
     "execution_count": 65,
     "metadata": {},
     "output_type": "execute_result"
    }
   ],
   "source": [
    "qc = anz.circuit()\n",
    "qc.assign_parameters({qc.parameters[0]:0}).draw(output='mpl')"
   ]
  },
  {
   "cell_type": "code",
   "execution_count": 38,
   "id": "2adbac22-f68d-40d9-9280-197a64def4f6",
   "metadata": {},
   "outputs": [
    {
     "ename": "KeyError",
     "evalue": "140262204884976",
     "output_type": "error",
     "traceback": [
      "\u001b[0;31m---------------------------------------------------------------------------\u001b[0m",
      "\u001b[0;31mKeyError\u001b[0m                                  Traceback (most recent call last)",
      "Input \u001b[0;32mIn [38]\u001b[0m, in \u001b[0;36m<cell line: 4>\u001b[0;34m()\u001b[0m\n\u001b[1;32m      1\u001b[0m n_gate \u001b[38;5;241m=\u001b[39m \u001b[38;5;241m0\u001b[39m\n\u001b[1;32m      3\u001b[0m circuit_target \u001b[38;5;241m=\u001b[39m anz\u001b[38;5;241m.\u001b[39mcircuit()\u001b[38;5;241m.\u001b[39mbind_parameters(angles_target)\n\u001b[0;32m----> 4\u001b[0m circuit_missing_gate \u001b[38;5;241m=\u001b[39m \u001b[43mremove_gate\u001b[49m\u001b[43m(\u001b[49m\u001b[43manz\u001b[49m\u001b[38;5;241;43m.\u001b[39;49m\u001b[43mcircuit\u001b[49m\u001b[43m(\u001b[49m\u001b[43m)\u001b[49m\u001b[43m,\u001b[49m\u001b[43m \u001b[49m\u001b[43mn_gate\u001b[49m\u001b[43m)\u001b[49m\u001b[38;5;241;43m.\u001b[39;49m\u001b[43mbind_parameters\u001b[49m\u001b[43m(\u001b[49m\u001b[43mangles_target\u001b[49m\u001b[43m)\u001b[49m\n",
      "File \u001b[0;32m~/coding/jax_circuits/pypi/lib/python3.8/site-packages/qiskit/circuit/quantumcircuit.py:2523\u001b[0m, in \u001b[0;36mQuantumCircuit.bind_parameters\u001b[0;34m(self, values)\u001b[0m\n\u001b[1;32m   2519\u001b[0m \u001b[38;5;28;01mif\u001b[39;00m \u001b[38;5;28many\u001b[39m(\u001b[38;5;28misinstance\u001b[39m(value, ParameterExpression) \u001b[38;5;28;01mfor\u001b[39;00m value \u001b[38;5;129;01min\u001b[39;00m values):\n\u001b[1;32m   2520\u001b[0m     \u001b[38;5;28;01mraise\u001b[39;00m \u001b[38;5;167;01mTypeError\u001b[39;00m(\n\u001b[1;32m   2521\u001b[0m         \u001b[38;5;124m\"\u001b[39m\u001b[38;5;124mFound ParameterExpression in values; use assign_parameters() instead.\u001b[39m\u001b[38;5;124m\"\u001b[39m\n\u001b[1;32m   2522\u001b[0m     )\n\u001b[0;32m-> 2523\u001b[0m \u001b[38;5;28;01mreturn\u001b[39;00m \u001b[38;5;28;43mself\u001b[39;49m\u001b[38;5;241;43m.\u001b[39;49m\u001b[43massign_parameters\u001b[49m\u001b[43m(\u001b[49m\u001b[43mvalues\u001b[49m\u001b[43m)\u001b[49m\n",
      "File \u001b[0;32m~/coding/jax_circuits/pypi/lib/python3.8/site-packages/qiskit/circuit/quantumcircuit.py:2456\u001b[0m, in \u001b[0;36mQuantumCircuit.assign_parameters\u001b[0;34m(self, parameters, inplace)\u001b[0m\n\u001b[1;32m   2454\u001b[0m     bound_circuit \u001b[38;5;241m=\u001b[39m \u001b[38;5;28mself\u001b[39m\n\u001b[1;32m   2455\u001b[0m \u001b[38;5;28;01melse\u001b[39;00m:\n\u001b[0;32m-> 2456\u001b[0m     bound_circuit \u001b[38;5;241m=\u001b[39m \u001b[38;5;28;43mself\u001b[39;49m\u001b[38;5;241;43m.\u001b[39;49m\u001b[43mcopy\u001b[49m\u001b[43m(\u001b[49m\u001b[43m)\u001b[49m\n\u001b[1;32m   2457\u001b[0m     \u001b[38;5;28mself\u001b[39m\u001b[38;5;241m.\u001b[39m_increment_instances()\n\u001b[1;32m   2458\u001b[0m     bound_circuit\u001b[38;5;241m.\u001b[39m_name_update()\n",
      "File \u001b[0;32m~/coding/jax_circuits/pypi/lib/python3.8/site-packages/qiskit/circuit/quantumcircuit.py:2106\u001b[0m, in \u001b[0;36mQuantumCircuit.copy\u001b[0;34m(self, name)\u001b[0m\n\u001b[1;32m   2101\u001b[0m instr_instances \u001b[38;5;241m=\u001b[39m {\u001b[38;5;28mid\u001b[39m(instr): instr \u001b[38;5;28;01mfor\u001b[39;00m instr, _, __ \u001b[38;5;129;01min\u001b[39;00m \u001b[38;5;28mself\u001b[39m\u001b[38;5;241m.\u001b[39m_data}\n\u001b[1;32m   2103\u001b[0m instr_copies \u001b[38;5;241m=\u001b[39m {id_: instr\u001b[38;5;241m.\u001b[39mcopy() \u001b[38;5;28;01mfor\u001b[39;00m id_, instr \u001b[38;5;129;01min\u001b[39;00m instr_instances\u001b[38;5;241m.\u001b[39mitems()}\n\u001b[1;32m   2105\u001b[0m cpy\u001b[38;5;241m.\u001b[39m_parameter_table \u001b[38;5;241m=\u001b[39m ParameterTable(\n\u001b[0;32m-> 2106\u001b[0m     {\n\u001b[1;32m   2107\u001b[0m         param: [\n\u001b[1;32m   2108\u001b[0m             (instr_copies[\u001b[38;5;28mid\u001b[39m(instr)], param_index)\n\u001b[1;32m   2109\u001b[0m             \u001b[38;5;28;01mfor\u001b[39;00m instr, param_index \u001b[38;5;129;01min\u001b[39;00m \u001b[38;5;28mself\u001b[39m\u001b[38;5;241m.\u001b[39m_parameter_table[param]\n\u001b[1;32m   2110\u001b[0m         ]\n\u001b[1;32m   2111\u001b[0m         \u001b[38;5;28;01mfor\u001b[39;00m param \u001b[38;5;129;01min\u001b[39;00m \u001b[38;5;28mself\u001b[39m\u001b[38;5;241m.\u001b[39m_parameter_table\n\u001b[1;32m   2112\u001b[0m     }\n\u001b[1;32m   2113\u001b[0m )\n\u001b[1;32m   2115\u001b[0m cpy\u001b[38;5;241m.\u001b[39m_data \u001b[38;5;241m=\u001b[39m [\n\u001b[1;32m   2116\u001b[0m     (instr_copies[\u001b[38;5;28mid\u001b[39m(inst)], qargs\u001b[38;5;241m.\u001b[39mcopy(), cargs\u001b[38;5;241m.\u001b[39mcopy())\n\u001b[1;32m   2117\u001b[0m     \u001b[38;5;28;01mfor\u001b[39;00m inst, qargs, cargs \u001b[38;5;129;01min\u001b[39;00m \u001b[38;5;28mself\u001b[39m\u001b[38;5;241m.\u001b[39m_data\n\u001b[1;32m   2118\u001b[0m ]\n\u001b[1;32m   2120\u001b[0m cpy\u001b[38;5;241m.\u001b[39m_calibrations \u001b[38;5;241m=\u001b[39m copy\u001b[38;5;241m.\u001b[39mdeepcopy(\u001b[38;5;28mself\u001b[39m\u001b[38;5;241m.\u001b[39m_calibrations)\n",
      "File \u001b[0;32m~/coding/jax_circuits/pypi/lib/python3.8/site-packages/qiskit/circuit/quantumcircuit.py:2107\u001b[0m, in \u001b[0;36m<dictcomp>\u001b[0;34m(.0)\u001b[0m\n\u001b[1;32m   2101\u001b[0m instr_instances \u001b[38;5;241m=\u001b[39m {\u001b[38;5;28mid\u001b[39m(instr): instr \u001b[38;5;28;01mfor\u001b[39;00m instr, _, __ \u001b[38;5;129;01min\u001b[39;00m \u001b[38;5;28mself\u001b[39m\u001b[38;5;241m.\u001b[39m_data}\n\u001b[1;32m   2103\u001b[0m instr_copies \u001b[38;5;241m=\u001b[39m {id_: instr\u001b[38;5;241m.\u001b[39mcopy() \u001b[38;5;28;01mfor\u001b[39;00m id_, instr \u001b[38;5;129;01min\u001b[39;00m instr_instances\u001b[38;5;241m.\u001b[39mitems()}\n\u001b[1;32m   2105\u001b[0m cpy\u001b[38;5;241m.\u001b[39m_parameter_table \u001b[38;5;241m=\u001b[39m ParameterTable(\n\u001b[1;32m   2106\u001b[0m     {\n\u001b[0;32m-> 2107\u001b[0m         param: [\n\u001b[1;32m   2108\u001b[0m             (instr_copies[\u001b[38;5;28mid\u001b[39m(instr)], param_index)\n\u001b[1;32m   2109\u001b[0m             \u001b[38;5;28;01mfor\u001b[39;00m instr, param_index \u001b[38;5;129;01min\u001b[39;00m \u001b[38;5;28mself\u001b[39m\u001b[38;5;241m.\u001b[39m_parameter_table[param]\n\u001b[1;32m   2110\u001b[0m         ]\n\u001b[1;32m   2111\u001b[0m         \u001b[38;5;28;01mfor\u001b[39;00m param \u001b[38;5;129;01min\u001b[39;00m \u001b[38;5;28mself\u001b[39m\u001b[38;5;241m.\u001b[39m_parameter_table\n\u001b[1;32m   2112\u001b[0m     }\n\u001b[1;32m   2113\u001b[0m )\n\u001b[1;32m   2115\u001b[0m cpy\u001b[38;5;241m.\u001b[39m_data \u001b[38;5;241m=\u001b[39m [\n\u001b[1;32m   2116\u001b[0m     (instr_copies[\u001b[38;5;28mid\u001b[39m(inst)], qargs\u001b[38;5;241m.\u001b[39mcopy(), cargs\u001b[38;5;241m.\u001b[39mcopy())\n\u001b[1;32m   2117\u001b[0m     \u001b[38;5;28;01mfor\u001b[39;00m inst, qargs, cargs \u001b[38;5;129;01min\u001b[39;00m \u001b[38;5;28mself\u001b[39m\u001b[38;5;241m.\u001b[39m_data\n\u001b[1;32m   2118\u001b[0m ]\n\u001b[1;32m   2120\u001b[0m cpy\u001b[38;5;241m.\u001b[39m_calibrations \u001b[38;5;241m=\u001b[39m copy\u001b[38;5;241m.\u001b[39mdeepcopy(\u001b[38;5;28mself\u001b[39m\u001b[38;5;241m.\u001b[39m_calibrations)\n",
      "File \u001b[0;32m~/coding/jax_circuits/pypi/lib/python3.8/site-packages/qiskit/circuit/quantumcircuit.py:2108\u001b[0m, in \u001b[0;36m<listcomp>\u001b[0;34m(.0)\u001b[0m\n\u001b[1;32m   2101\u001b[0m instr_instances \u001b[38;5;241m=\u001b[39m {\u001b[38;5;28mid\u001b[39m(instr): instr \u001b[38;5;28;01mfor\u001b[39;00m instr, _, __ \u001b[38;5;129;01min\u001b[39;00m \u001b[38;5;28mself\u001b[39m\u001b[38;5;241m.\u001b[39m_data}\n\u001b[1;32m   2103\u001b[0m instr_copies \u001b[38;5;241m=\u001b[39m {id_: instr\u001b[38;5;241m.\u001b[39mcopy() \u001b[38;5;28;01mfor\u001b[39;00m id_, instr \u001b[38;5;129;01min\u001b[39;00m instr_instances\u001b[38;5;241m.\u001b[39mitems()}\n\u001b[1;32m   2105\u001b[0m cpy\u001b[38;5;241m.\u001b[39m_parameter_table \u001b[38;5;241m=\u001b[39m ParameterTable(\n\u001b[1;32m   2106\u001b[0m     {\n\u001b[1;32m   2107\u001b[0m         param: [\n\u001b[0;32m-> 2108\u001b[0m             (\u001b[43minstr_copies\u001b[49m\u001b[43m[\u001b[49m\u001b[38;5;28;43mid\u001b[39;49m\u001b[43m(\u001b[49m\u001b[43minstr\u001b[49m\u001b[43m)\u001b[49m\u001b[43m]\u001b[49m, param_index)\n\u001b[1;32m   2109\u001b[0m             \u001b[38;5;28;01mfor\u001b[39;00m instr, param_index \u001b[38;5;129;01min\u001b[39;00m \u001b[38;5;28mself\u001b[39m\u001b[38;5;241m.\u001b[39m_parameter_table[param]\n\u001b[1;32m   2110\u001b[0m         ]\n\u001b[1;32m   2111\u001b[0m         \u001b[38;5;28;01mfor\u001b[39;00m param \u001b[38;5;129;01min\u001b[39;00m \u001b[38;5;28mself\u001b[39m\u001b[38;5;241m.\u001b[39m_parameter_table\n\u001b[1;32m   2112\u001b[0m     }\n\u001b[1;32m   2113\u001b[0m )\n\u001b[1;32m   2115\u001b[0m cpy\u001b[38;5;241m.\u001b[39m_data \u001b[38;5;241m=\u001b[39m [\n\u001b[1;32m   2116\u001b[0m     (instr_copies[\u001b[38;5;28mid\u001b[39m(inst)], qargs\u001b[38;5;241m.\u001b[39mcopy(), cargs\u001b[38;5;241m.\u001b[39mcopy())\n\u001b[1;32m   2117\u001b[0m     \u001b[38;5;28;01mfor\u001b[39;00m inst, qargs, cargs \u001b[38;5;129;01min\u001b[39;00m \u001b[38;5;28mself\u001b[39m\u001b[38;5;241m.\u001b[39m_data\n\u001b[1;32m   2118\u001b[0m ]\n\u001b[1;32m   2120\u001b[0m cpy\u001b[38;5;241m.\u001b[39m_calibrations \u001b[38;5;241m=\u001b[39m copy\u001b[38;5;241m.\u001b[39mdeepcopy(\u001b[38;5;28mself\u001b[39m\u001b[38;5;241m.\u001b[39m_calibrations)\n",
      "\u001b[0;31mKeyError\u001b[0m: 140262204884976"
     ]
    }
   ],
   "source": [
    "n_gate = 0\n",
    "\n",
    "circuit_target = anz.circuit().bind_parameters(angles_target)\n",
    "circuit_missing_gate = remove_gate(anz.circuit(), n_gate).bind_parameters(angles_target)\n",
    "# circuit_target.draw(output='mpl')"
   ]
  },
  {
   "cell_type": "code",
   "execution_count": null,
   "id": "468c4222-8a18-4366-9796-7a64908710fd",
   "metadata": {},
   "outputs": [],
   "source": [
    "anz.circuit().bind_parameters()"
   ]
  },
  {
   "cell_type": "code",
   "execution_count": 35,
   "id": "f3570e40-6491-4e7a-8c18-46658624b37c",
   "metadata": {},
   "outputs": [
    {
     "data": {
      "image/png": "[encoded data removed]",
      "text/plain": [
       "<Figure size 1230.4x204.68 with 1 Axes>"
      ]
     },
     "execution_count": 35,
     "metadata": {},
     "output_type": "execute_result"
    }
   ],
   "source": [
    "remove_gate(anz.circuit(), 0).draw(output='mpl')"
   ]
  },
  {
   "cell_type": "code",
   "execution_count": null,
   "id": "aca67ed9-682a-4313-bb49-b519a19582cd",
   "metadata": {},
   "outputs": [],
   "source": [
    "def delete_gate(circuit, n):\n",
    "    qc = circuit.copy()\n",
    "    params="
   ]
  },
  {
   "cell_type": "code",
   "execution_count": 29,
   "id": "7dce33da-86ba-418b-94dd-702a60421e98",
   "metadata": {},
   "outputs": [
    {
     "data": {
      "text/plain": [
       "ParameterView([Parameter(a_{0}), Parameter(a_{10}), Parameter(a_{11}), Parameter(a_{12}), Parameter(a_{13}), Parameter(a_{14}), Parameter(a_{15}), Parameter(a_{16}), Parameter(a_{17}), Parameter(a_{18}), Parameter(a_{19}), Parameter(a_{1}), Parameter(a_{20}), Parameter(a_{21}), Parameter(a_{22}), Parameter(a_{23}), Parameter(a_{24}), Parameter(a_{25}), Parameter(a_{26}), Parameter(a_{27}), Parameter(a_{28}), Parameter(a_{29}), Parameter(a_{2}), Parameter(a_{30}), Parameter(a_{31}), Parameter(a_{32}), Parameter(a_{3}), Parameter(a_{4}), Parameter(a_{5}), Parameter(a_{6}), Parameter(a_{7}), Parameter(a_{8}), Parameter(a_{9})])"
      ]
     },
     "execution_count": 29,
     "metadata": {},
     "output_type": "execute_result"
    }
   ],
   "source": [
    "anz.circuit().parameters"
   ]
  },
  {
   "cell_type": "code",
   "execution_count": 24,
   "id": "e84b3edf-63e5-4a71-b2d9-2c2f8e7413c3",
   "metadata": {},
   "outputs": [],
   "source": [
    "from scipy.optimize import minimize"
   ]
  },
  {
   "cell_type": "code",
   "execution_count": null,
   "id": "31ae9d65-faa8-4233-9e76-6ac17a4aaca1",
   "metadata": {},
   "outputs": [],
   "source": [
    "def loss()"
   ]
  }
 ],
 "metadata": {
  "kernelspec": {
   "display_name": "pypi",
   "language": "python",
   "name": "pypi"
  },
  "language_info": {
   "codemirror_mode": {
    "name": "ipython",
    "version": 3
   },
   "file_extension": ".py",
   "mimetype": "text/x-python",
   "name": "python",
   "nbconvert_exporter": "python",
   "pygments_lexer": "ipython3",
   "version": "3.8.10"
  },
  "widgets": {
   "application/vnd.jupyter.widget-state+json": {
    "state": {
     "019ecc1fe68c447e919becf49b7ad935": {
      "model_module": "@jupyter-widgets/controls",
      "model_module_version": "1.5.0",
      "model_name": "HTMLModel",
      "state": {
       "layout": "IPY_MODEL_1e73d60affcb48309d52b8d3a70e9351",
       "style": "IPY_MODEL_cb4f7c4017fb47bf94efe3238e37d1cc",
       "value": "Targets: 100%"
      }
     },
     "02cf2db4ee55447c8d8e382c057609af": {
      "model_module": "@jupyter-widgets/controls",
      "model_module_version": "1.5.0",
      "model_name": "ProgressStyleModel",
      "state": {
       "description_width": ""
      }
     },
     "034e9710ef284d8fa9f23eaba432d259": {
      "model_module": "@jupyter-widgets/base",
      "model_module_version": "1.2.0",
      "model_name": "LayoutModel",
      "state": {}
     },
     "125fec913b5a4d5aada54ee9efdee5f5": {
      "model_module": "@jupyter-widgets/controls",
      "model_module_version": "1.5.0",
      "model_name": "DescriptionStyleModel",
      "state": {
       "description_width": ""
      }
     },
     "1a18d284928946c5b1c74f3ec7f118d5": {
      "model_module": "@jupyter-widgets/controls",
      "model_module_version": "1.5.0",
      "model_name": "DescriptionStyleModel",
      "state": {
       "description_width": ""
      }
     },
     "1e56ec28259146e4acae8892d6f0fa71": {
      "model_module": "@jupyter-widgets/base",
      "model_module_version": "1.2.0",
      "model_name": "LayoutModel",
      "state": {}
     },
     "1e73d60affcb48309d52b8d3a70e9351": {
      "model_module": "@jupyter-widgets/base",
      "model_module_version": "1.2.0",
      "model_name": "LayoutModel",
      "state": {}
     },
     "21c0af545f34454897a26da84483381d": {
      "model_module": "@jupyter-widgets/base",
      "model_module_version": "1.2.0",
      "model_name": "LayoutModel",
      "state": {}
     },
     "355811340e2f41a49ddbb924c4b68300": {
      "model_module": "@jupyter-widgets/controls",
      "model_module_version": "1.5.0",
      "model_name": "FloatProgressModel",
      "state": {
       "layout": "IPY_MODEL_3ab995cca1a34c33b26c71fb31b5a402",
       "max": 3,
       "style": "IPY_MODEL_02cf2db4ee55447c8d8e382c057609af",
       "value": 3
      }
     },
     "3ab995cca1a34c33b26c71fb31b5a402": {
      "model_module": "@jupyter-widgets/base",
      "model_module_version": "1.2.0",
      "model_name": "LayoutModel",
      "state": {}
     },
     "41b3e9c02c1c4c3cbd08de3d1c6cb68a": {
      "model_module": "@jupyter-widgets/base",
      "model_module_version": "1.2.0",
      "model_name": "LayoutModel",
      "state": {}
     },
     "42672f8dcf9147daa877d29f09c03c04": {
      "model_module": "@jupyter-widgets/controls",
      "model_module_version": "1.5.0",
      "model_name": "HTMLModel",
      "state": {
       "layout": "IPY_MODEL_41b3e9c02c1c4c3cbd08de3d1c6cb68a",
       "style": "IPY_MODEL_bb6e91bc81b74d72ab8bb0dbba2171d4",
       "value": "Gates: 100%"
      }
     },
     "60bc64ef91bf440d9c50ec4eece38764": {
      "model_module": "@jupyter-widgets/base",
      "model_module_version": "1.2.0",
      "model_name": "LayoutModel",
      "state": {}
     },
     "7508d562eda444129615bf427eebd1c6": {
      "model_module": "@jupyter-widgets/controls",
      "model_module_version": "1.5.0",
      "model_name": "HTMLModel",
      "state": {
       "layout": "IPY_MODEL_1e56ec28259146e4acae8892d6f0fa71",
       "style": "IPY_MODEL_8cc81f7b6c704de98e20e94240063e20",
       "value": " 3/3 [00:15&lt;00:00,  4.82s/it]"
      }
     },
     "8cc81f7b6c704de98e20e94240063e20": {
      "model_module": "@jupyter-widgets/controls",
      "model_module_version": "1.5.0",
      "model_name": "DescriptionStyleModel",
      "state": {
       "description_width": ""
      }
     },
     "99aa1a7cc08049929a7aac177749e22a": {
      "model_module": "@jupyter-widgets/controls",
      "model_module_version": "1.5.0",
      "model_name": "HTMLModel",
      "state": {
       "layout": "IPY_MODEL_034e9710ef284d8fa9f23eaba432d259",
       "style": "IPY_MODEL_1a18d284928946c5b1c74f3ec7f118d5",
       "value": "Targets: 100%"
      }
     },
     "a1a0a599b86342a287ace408b724e456": {
      "model_module": "@jupyter-widgets/controls",
      "model_module_version": "1.5.0",
      "model_name": "FloatProgressModel",
      "state": {
       "layout": "IPY_MODEL_21c0af545f34454897a26da84483381d",
       "max": 3,
       "style": "IPY_MODEL_a931e2bc90df456d9e2107be34e0fc46",
       "value": 3
      }
     },
     "a31410d7032e4a84a5d49092fb1bd417": {
      "model_module": "@jupyter-widgets/controls",
      "model_module_version": "1.5.0",
      "model_name": "FloatProgressModel",
      "state": {
       "bar_style": "success",
       "layout": "IPY_MODEL_f369cd9878234d9da03761086450bf47",
       "max": 2,
       "style": "IPY_MODEL_a963b0c0f3984d9d8cd96f849893ed6b",
       "value": 2
      }
     },
     "a931e2bc90df456d9e2107be34e0fc46": {
      "model_module": "@jupyter-widgets/controls",
      "model_module_version": "1.5.0",
      "model_name": "ProgressStyleModel",
      "state": {
       "description_width": ""
      }
     },
     "a963b0c0f3984d9d8cd96f849893ed6b": {
      "model_module": "@jupyter-widgets/controls",
      "model_module_version": "1.5.0",
      "model_name": "ProgressStyleModel",
      "state": {
       "description_width": ""
      }
     },
     "b64841412a2248d5876dab0da76e6d6a": {
      "model_module": "@jupyter-widgets/base",
      "model_module_version": "1.2.0",
      "model_name": "LayoutModel",
      "state": {}
     },
     "bb6e91bc81b74d72ab8bb0dbba2171d4": {
      "model_module": "@jupyter-widgets/controls",
      "model_module_version": "1.5.0",
      "model_name": "DescriptionStyleModel",
      "state": {
       "description_width": ""
      }
     },
     "befde1f87d384be0beccf078fb68ea4f": {
      "model_module": "@jupyter-widgets/controls",
      "model_module_version": "1.5.0",
      "model_name": "HTMLModel",
      "state": {
       "layout": "IPY_MODEL_c34b0c6195d74d0fbfc06902317ceb4c",
       "style": "IPY_MODEL_d07f8307f13548b3a2ba859fa60bf78e",
       "value": " 3/3 [00:13&lt;00:00,  4.29s/it]"
      }
     },
     "c34b0c6195d74d0fbfc06902317ceb4c": {
      "model_module": "@jupyter-widgets/base",
      "model_module_version": "1.2.0",
      "model_name": "LayoutModel",
      "state": {}
     },
     "c69493cf41704392a54f539e96f2c011": {
      "model_module": "@jupyter-widgets/controls",
      "model_module_version": "1.5.0",
      "model_name": "HBoxModel",
      "state": {
       "children": [
        "IPY_MODEL_42672f8dcf9147daa877d29f09c03c04",
        "IPY_MODEL_a31410d7032e4a84a5d49092fb1bd417",
        "IPY_MODEL_ec9d03289cb24bc598a8bd8e41099237"
       ],
       "layout": "IPY_MODEL_b64841412a2248d5876dab0da76e6d6a"
      }
     },
     "cb4f7c4017fb47bf94efe3238e37d1cc": {
      "model_module": "@jupyter-widgets/controls",
      "model_module_version": "1.5.0",
      "model_name": "DescriptionStyleModel",
      "state": {
       "description_width": ""
      }
     },
     "d07f8307f13548b3a2ba859fa60bf78e": {
      "model_module": "@jupyter-widgets/controls",
      "model_module_version": "1.5.0",
      "model_name": "DescriptionStyleModel",
      "state": {
       "description_width": ""
      }
     },
     "d8b7c05944614d20b8a57796300c0eec": {
      "model_module": "@jupyter-widgets/base",
      "model_module_version": "1.2.0",
      "model_name": "LayoutModel",
      "state": {}
     },
     "ec9d03289cb24bc598a8bd8e41099237": {
      "model_module": "@jupyter-widgets/controls",
      "model_module_version": "1.5.0",
      "model_name": "HTMLModel",
      "state": {
       "layout": "IPY_MODEL_d8b7c05944614d20b8a57796300c0eec",
       "style": "IPY_MODEL_125fec913b5a4d5aada54ee9efdee5f5",
       "value": " 2/2 [00:28&lt;00:00, 14.19s/it]"
      }
     },
     "f369cd9878234d9da03761086450bf47": {
      "model_module": "@jupyter-widgets/base",
      "model_module_version": "1.2.0",
      "model_name": "LayoutModel",
      "state": {}
     },
     "fc3a5ea5ecf144cabecd14bd5b4d4bec": {
      "model_module": "@jupyter-widgets/base",
      "model_module_version": "1.2.0",
      "model_name": "LayoutModel",
      "state": {}
     }
    },
    "version_major": 2,
    "version_minor": 0
   }
  }
 },
 "nbformat": 4,
 "nbformat_minor": 5
}
