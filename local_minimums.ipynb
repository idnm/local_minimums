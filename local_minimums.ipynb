{
 "cells": [
  {
   "cell_type": "code",
   "execution_count": 1,
   "id": "d7238649-0c0b-4e9e-9265-5f6031d20ad9",
   "metadata": {},
   "outputs": [],
   "source": [
    "import pickle\n",
    "import matplotlib.pyplot as plt\n",
    "import numpy as np"
   ]
  },
  {
   "cell_type": "markdown",
   "id": "9d5dc97f-bf82-4456-a18d-c00932c889f3",
   "metadata": {},
   "source": [
    "This will load results for one of four datasets: random self instance/random unitaries for 3q/4q circuits."
   ]
  },
  {
   "cell_type": "code",
   "execution_count": 21,
   "id": "5bb4b6dc-227c-40b7-bd87-716c443d0a78",
   "metadata": {},
   "outputs": [],
   "source": [
    "results_paths = [\n",
    "    '3q_random_self_rs',\n",
    "    '3q_random_unitary_rs',\n",
    "    '4q_random_self_rs',\n",
    "    '4q_random_unitary_rs'\n",
    "]\n",
    "\n",
    "def load_dataset(n):\n",
    "    assert 0<=n<=3, 'There are only four datasets'\n",
    "    results = []\n",
    "    for i in range(10):\n",
    "        with open(f'{results_paths[n]}{i}', 'rb')  as f:\n",
    "            results.append(pickle.load(f))\n",
    "    return results"
   ]
  },
  {
   "cell_type": "markdown",
   "id": "4fe8d3e5-cbfc-4173-8362-4f2c6a24688e",
   "metadata": {},
   "source": [
    "Here is the code to reproduce any of the charts from the paper."
   ]
  },
  {
   "cell_type": "code",
   "execution_count": 30,
   "id": "614443e0-99c6-438e-aad5-147dbfc12a75",
   "metadata": {},
   "outputs": [
    {
     "data": {
      "text/plain": [
       "'random_self'"
      ]
     },
     "execution_count": 30,
     "metadata": {},
     "output_type": "execute_result"
    }
   ],
   "source": [
    "results[0][0]['num_qubits']\n",
    "results[0][0]['target_type']"
   ]
  },
  {
   "cell_type": "code",
   "execution_count": 37,
   "id": "decb1317-1b16-453b-b6c0-eaec3f568d6a",
   "metadata": {},
   "outputs": [
    {
     "data": {
      "text/plain": [
       "Text(0.5, 0, 'Number of CZ gates')"
      ]
     },
     "execution_count": 37,
     "metadata": {},
     "output_type": "execute_result"
    },
    {
     "data": {
      "image/png": "[encoded data removed]",
      "text/plain": [
       "<Figure size 432x288 with 1 Axes>"
      ]
     },
     "metadata": {
      "needs_background": "light"
     },
     "output_type": "display_data"
    }
   ],
   "source": [
    "def mean_and_std(results):\n",
    "    mean_list = []\n",
    "    std_list = []\n",
    "    for i in range(len(results[0])):\n",
    "        sr_list = np.array([res[i]['success_ratio'] for res in results])\n",
    "        mean_list.append(np.mean(sr_list))\n",
    "        std_list.append(np.std(sr_list))\n",
    "    \n",
    "    return mean_list, std_list    \n",
    "\n",
    "\n",
    "# Change index to plot a different dataset.\n",
    "results = load_dataset(0)\n",
    "\n",
    "# Compute mean and standard deviation at each gate count      \n",
    "mean_list, std_list = mean_and_std(results)\n",
    "\n",
    "# Do the plotting.\n",
    "plt.errorbar(range(len(mean_list)), mean_list, yerr=std_list, fmt='o', capsize=10);\n",
    "\n",
    "plt.title(f\"num qubits: {results[0][0]['num_qubits']}, target type: {results[0][0]['target_type']}\")\n",
    "plt.yscale('log')\n",
    "plt.xticks(range(len(mean_list)), rotation=70)\n",
    "plt.ylabel('Success Ratio')\n",
    "plt.xlabel('Number of CZ gates')"
   ]
  },
  {
   "cell_type": "markdown",
   "id": "e53ba47c-19e8-437c-b12b-ec6d83e8e06e",
   "metadata": {},
   "source": [
    "Here let's look at a single point from such a dataset: with a fixed target and fixed number of CZ gates."
   ]
  },
  {
   "cell_type": "code",
   "execution_count": 44,
   "id": "7b1846e8-2606-4084-8608-cbd6e7704f0f",
   "metadata": {},
   "outputs": [
    {
     "name": "stdout",
     "output_type": "stream",
     "text": [
      "num qubits: 4\n",
      "template gate count: 12\n",
      "success ratio: 0.001\n"
     ]
    }
   ],
   "source": [
    "dataset_i = 3\n",
    "target_index = 2\n",
    "x_index = 4 # Equal to gate count for 3q circuits, equal to \n",
    "res = load_dataset(dataset_i)[target_index][x_index]\n",
    "\n",
    "print('num qubits:', res['num_qubits'])\n",
    "print('template gate count:', res['num_cz_gates'])\n",
    "print('success ratio:', res['success_ratio'])\n",
    "all_best_losses = res['losses']\n",
    "all_best_losses = [float(l) for l in all_best_losses]"
   ]
  },
  {
   "cell_type": "markdown",
   "id": "2848c28f-a16a-41cb-80fa-6e64eeebcb71",
   "metadata": {},
   "source": [
    "List `all_best_losses` contains a list of all minimal losses that were reached for a 1000 initial conditions. Below we plot a sample histogram and specify how the success ratio was computed."
   ]
  },
  {
   "cell_type": "code",
   "execution_count": 45,
   "id": "d336d152-6efd-45a8-8815-b5146b51858a",
   "metadata": {},
   "outputs": [
    {
     "name": "stdout",
     "output_type": "stream",
     "text": [
      "succes ratio :0.001\n"
     ]
    },
    {
     "data": {
      "image/png": "[encoded data removed]",
      "text/plain": [
       "<Figure size 432x288 with 1 Axes>"
      ]
     },
     "metadata": {
      "needs_background": "light"
     },
     "output_type": "display_data"
    }
   ],
   "source": [
    "loss_cutoff = 1e-4\n",
    "\n",
    "best_loss_overall = min(all_best_losses)\n",
    "loss_threshold = best_loss_overall+loss_cutoff\n",
    "\n",
    "success_ratio = sum(np.array(all_best_losses) < loss_threshold)/len(all_best_losses)\n",
    "print(f'succes ratio :{success_ratio}')\n",
    "plt.axvline(loss_threshold, color='red', linestyle='--')\n",
    "plt.hist(all_best_losses, bins=100);"
   ]
  }
 ],
 "metadata": {
  "kernelspec": {
   "display_name": "Python 3",
   "language": "python",
   "name": "python3"
  },
  "language_info": {
   "codemirror_mode": {
    "name": "ipython",
    "version": 3
   },
   "file_extension": ".py",
   "mimetype": "text/x-python",
   "name": "python",
   "nbconvert_exporter": "python",
   "pygments_lexer": "ipython3",
   "version": "3.8.10"
  },
  "widgets": {
   "application/vnd.jupyter.widget-state+json": {
    "state": {},
    "version_major": 2,
    "version_minor": 0
   }
  }
 },
 "nbformat": 4,
 "nbformat_minor": 5
}
