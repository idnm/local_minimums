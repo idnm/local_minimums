{
  "cells": [
    {
      "cell_type": "markdown",
      "metadata": {
        "id": "view-in-github",
        "colab_type": "text"
      },
      "source": [
        "<a href=\"https://colab.research.google.com/github/idnm/local_minimums/blob/master/local_minimums.ipynb\" target=\"_parent\"><img src=\"https://colab.research.google.com/assets/colab-badge.svg\" alt=\"Open In Colab\"/></a>"
      ]
    },
    {
      "cell_type": "code",
      "execution_count": 6,
      "id": "d7238649-0c0b-4e9e-9265-5f6031d20ad9",
      "metadata": {
        "colab": {
          "base_uri": "https://localhost:8080/"
        },
        "id": "d7238649-0c0b-4e9e-9265-5f6031d20ad9",
        "outputId": "3e4f15c2-83f2-4aef-bab7-2ce2349f8d9b"
      },
      "outputs": [
        {
          "output_type": "stream",
          "name": "stdout",
          "text": [
            "fatal: destination path 'local_minimums' already exists and is not an empty directory.\n"
          ]
        }
      ],
      "source": [
        "import pickle\n",
        "import matplotlib.pyplot as plt\n",
        "import numpy as np\n",
        "\n",
        "!git clone https://github.com/idnm/local_minimums\n",
        "!cp -r /content/local_minimums/data /content"
      ]
    },
    {
      "cell_type": "markdown",
      "id": "9d5dc97f-bf82-4456-a18d-c00932c889f3",
      "metadata": {
        "id": "9d5dc97f-bf82-4456-a18d-c00932c889f3"
      },
      "source": [
        "This will load results for one of four datasets: random self instance/random unitaries for 3q/4q circuits."
      ]
    },
    {
      "cell_type": "code",
      "execution_count": 7,
      "id": "5bb4b6dc-227c-40b7-bd87-716c443d0a78",
      "metadata": {
        "id": "5bb4b6dc-227c-40b7-bd87-716c443d0a78"
      },
      "outputs": [],
      "source": [
        "results_paths = [\n",
        "    '3q_random_self_rs',\n",
        "    '3q_random_unitary_rs',\n",
        "    '4q_random_self_rs',\n",
        "    '4q_random_unitary_rs'\n",
        "]\n",
        "\n",
        "def load_dataset(n):\n",
        "    assert 0<=n<=3, 'There are only four datasets'\n",
        "    results = []\n",
        "    for i in range(10):\n",
        "        with open(f'data/{results_paths[n]}{i}', 'rb')  as f:\n",
        "            results.append(pickle.load(f))\n",
        "    return results"
      ]
    },
    {
      "cell_type": "markdown",
      "id": "4fe8d3e5-cbfc-4173-8362-4f2c6a24688e",
      "metadata": {
        "id": "4fe8d3e5-cbfc-4173-8362-4f2c6a24688e"
      },
      "source": [
        "Here is the code to reproduce any of the charts from the paper."
      ]
    },
    {
      "cell_type": "code",
      "execution_count": 8,
      "id": "decb1317-1b16-453b-b6c0-eaec3f568d6a",
      "metadata": {
        "colab": {
          "base_uri": "https://localhost:8080/",
          "height": 320
        },
        "id": "decb1317-1b16-453b-b6c0-eaec3f568d6a",
        "outputId": "b84286bc-b145-4f34-c856-848f53986d13"
      },
      "outputs": [
        {
          "output_type": "execute_result",
          "data": {
            "text/plain": [
              "Text(0.5, 0, 'Number of CZ gates')"
            ]
          },
          "metadata": {},
          "execution_count": 8
        },
        {
          "output_type": "display_data",
          "data": {
            "text/plain": [
              "<Figure size 432x288 with 1 Axes>"
            ],
            "image/png": "[encoded data removed]"
          },
          "metadata": {
            "needs_background": "light"
          }
        }
      ],
      "source": [
        "def mean_and_std(results):\n",
        "    mean_list = []\n",
        "    std_list = []\n",
        "    for i in range(len(results[0])):\n",
        "        sr_list = np.array([res[i]['success_ratio'] for res in results])\n",
        "        mean_list.append(np.mean(sr_list))\n",
        "        std_list.append(np.std(sr_list))\n",
        "    \n",
        "    return mean_list, std_list    \n",
        "\n",
        "\n",
        "# Change index to plot a different dataset.\n",
        "results = load_dataset(0)\n",
        "\n",
        "# Compute mean and standard deviation at each gate count      \n",
        "mean_list, std_list = mean_and_std(results)\n",
        "\n",
        "# Do the plotting.\n",
        "plt.errorbar(range(len(mean_list)), mean_list, yerr=std_list, fmt='o', capsize=10);\n",
        "\n",
        "plt.title(f\"num qubits: {results[0][0]['num_qubits']}, target type: {results[0][0]['target_type']}\")\n",
        "plt.yscale('log')\n",
        "plt.xticks(range(len(mean_list)), rotation=70)\n",
        "plt.ylabel('Success Ratio')\n",
        "plt.xlabel('Number of CZ gates')"
      ]
    },
    {
      "cell_type": "markdown",
      "id": "e53ba47c-19e8-437c-b12b-ec6d83e8e06e",
      "metadata": {
        "id": "e53ba47c-19e8-437c-b12b-ec6d83e8e06e"
      },
      "source": [
        "Here let's look at a single point from such a dataset: with a fixed target and fixed number of CZ gates."
      ]
    },
    {
      "cell_type": "code",
      "execution_count": 9,
      "id": "7b1846e8-2606-4084-8608-cbd6e7704f0f",
      "metadata": {
        "colab": {
          "base_uri": "https://localhost:8080/"
        },
        "id": "7b1846e8-2606-4084-8608-cbd6e7704f0f",
        "outputId": "eb376a93-066f-44fd-e5d4-4bfca451d468"
      },
      "outputs": [
        {
          "output_type": "stream",
          "name": "stdout",
          "text": [
            "num qubits: 4\n",
            "template gate count: 12\n",
            "success ratio: 0.001\n"
          ]
        }
      ],
      "source": [
        "dataset_i = 3  # Choose a dataset\n",
        "target_index = 2 # Choose one of ten targets\n",
        "x_index = 4 # Choose gate count. Index is equal to gate count for 3q circuits, and equal to gate count times 3 for 4q circuits.\n",
        "res = load_dataset(dataset_i)[target_index][x_index]\n",
        "\n",
        "print('num qubits:', res['num_qubits'])\n",
        "print('template gate count:', res['num_cz_gates'])\n",
        "print('success ratio:', res['success_ratio'])\n",
        "all_best_losses = res['losses']\n",
        "all_best_losses = [float(l) for l in all_best_losses]"
      ]
    },
    {
      "cell_type": "markdown",
      "id": "2848c28f-a16a-41cb-80fa-6e64eeebcb71",
      "metadata": {
        "id": "2848c28f-a16a-41cb-80fa-6e64eeebcb71"
      },
      "source": [
        "List `all_best_losses` contains a list of all minimal losses that were reached for a 1000 initial conditions. Below we plot a sample histogram and specify how the success ratio was computed."
      ]
    },
    {
      "cell_type": "code",
      "execution_count": 10,
      "id": "d336d152-6efd-45a8-8815-b5146b51858a",
      "metadata": {
        "colab": {
          "base_uri": "https://localhost:8080/",
          "height": 283
        },
        "id": "d336d152-6efd-45a8-8815-b5146b51858a",
        "outputId": "f3abac10-8acd-4e9d-a019-2a0ca2d45330"
      },
      "outputs": [
        {
          "output_type": "stream",
          "name": "stdout",
          "text": [
            "succes ratio :0.001\n"
          ]
        },
        {
          "output_type": "display_data",
          "data": {
            "text/plain": [
              "<Figure size 432x288 with 1 Axes>"
            ],
            "image/png": "[encoded data removed]"
          },
          "metadata": {
            "needs_background": "light"
          }
        }
      ],
      "source": [
        "loss_cutoff = 1e-4\n",
        "\n",
        "best_loss_overall = min(all_best_losses)\n",
        "\n",
        "# Loss theshold is defined as the best overall loss (possibly the global minumum) + a small value\n",
        "loss_threshold = best_loss_overall+loss_cutoff\n",
        "\n",
        "# Success ratio is the number of losses below the loss thrshold.\n",
        "success_ratio = sum(np.array(all_best_losses) < loss_threshold)/len(all_best_losses)\n",
        "print(f'succes ratio :{success_ratio}')\n",
        "plt.axvline(loss_threshold, color='red', linestyle='--')\n",
        "plt.hist(all_best_losses, bins=100);"
      ]
    }
  ],
  "metadata": {
    "kernelspec": {
      "display_name": "Python 3",
      "language": "python",
      "name": "python3"
    },
    "language_info": {
      "codemirror_mode": {
        "name": "ipython",
        "version": 3
      },
      "file_extension": ".py",
      "mimetype": "text/x-python",
      "name": "python",
      "nbconvert_exporter": "python",
      "pygments_lexer": "ipython3",
      "version": "3.8.10"
    },
    "colab": {
      "name": "local_minimums.ipynb",
      "provenance": [],
      "include_colab_link": true
    }
  },
  "nbformat": 4,
  "nbformat_minor": 5
}